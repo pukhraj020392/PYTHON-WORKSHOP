{
 "cells": [
  {
   "cell_type": "code",
   "execution_count": 15,
   "metadata": {},
   "outputs": [
    {
     "name": "stdout",
     "output_type": "stream",
     "text": [
      "[1, 2, 3, 4, 6, 7, 8, 'asd', 4, 5, 6, 7, 2, 35, 'werjrj']\n"
     ]
    }
   ],
   "source": [
    "q = [[1,2,3,4,6,7,8,'asd'],[4,5,6,7,2,35,'werjrj']]\n",
    "q\n",
    "\n",
    "flatten_list = []\n",
    "for sublist in q:\n",
    "    for val in sublist:\n",
    "        flatten_list.append(val)\n",
    "        \n",
    "print(flatten_list)\n",
    "\n"
   ]
  },
  {
   "cell_type": "code",
   "execution_count": null,
   "metadata": {},
   "outputs": [],
   "source": []
  },
  {
   "cell_type": "code",
   "execution_count": 11,
   "metadata": {},
   "outputs": [
    {
     "name": "stdout",
     "output_type": "stream",
     "text": [
      "[1, 2, 3, 4, 5, 6, 7, 8, 9]\n"
     ]
    }
   ],
   "source": [
    "matrix = [[1, 2, 3], [4, 5], [6, 7, 8, 9]] \n",
    "  \n",
    "flatten_matrix = [] \n",
    "  \n",
    "for sublist in matrix: \n",
    "    for val in sublist: \n",
    "        flatten_matrix.append(val) \n",
    "          \n",
    "print(flatten_matrix) "
   ]
  },
  {
   "cell_type": "code",
   "execution_count": 27,
   "metadata": {},
   "outputs": [
    {
     "name": "stdout",
     "output_type": "stream",
     "text": [
      "[1, 2, 3, 4, 6, 7, 8, 'asd', 4, 5, 6, 7, 2, 35, 'werjrj']\n"
     ]
    }
   ],
   "source": [
    "q = [[1,2,3,4,6,7,8,'asd'],[4,5,6,7,2,35,'werjrj']]\n",
    "\n",
    "s = []\n",
    "for i in q:\n",
    "    for j in i:\n",
    "        s.append(j)\n",
    "        \n",
    "print(s)"
   ]
  },
  {
   "cell_type": "code",
   "execution_count": null,
   "metadata": {},
   "outputs": [],
   "source": []
  }
 ],
 "metadata": {
  "kernelspec": {
   "display_name": "Python 3",
   "language": "python",
   "name": "python3"
  },
  "language_info": {
   "codemirror_mode": {
    "name": "ipython",
    "version": 3
   },
   "file_extension": ".py",
   "mimetype": "text/x-python",
   "name": "python",
   "nbconvert_exporter": "python",
   "pygments_lexer": "ipython3",
   "version": "3.7.4"
  }
 },
 "nbformat": 4,
 "nbformat_minor": 2
}
