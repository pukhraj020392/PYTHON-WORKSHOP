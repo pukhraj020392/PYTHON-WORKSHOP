{
 "cells": [
  {
   "cell_type": "markdown",
   "metadata": {},
   "source": [
    "#### 1. Find Factorial\n",
    "\n",
    "* Using numpy library and its functions find the factorial of all numbers from 1 till 'n'\n",
    "* 'n' is the input from the user\n",
    "* For eg.: Input = 5\n",
    "* Output should be [1!, 2!, 3!, 4!, 5!] i.e. [1,2,6,24,120]"
   ]
  },
  {
   "cell_type": "markdown",
   "metadata": {},
   "source": [
    "#### 2. Summarizing our data\n",
    "\n",
    "* Write a function that returns a summary of our data.\n",
    "* The function should return\n",
    "    * Minimum value\n",
    "    * Maximum Value\n",
    "    * Mean\n",
    "    * 1st Quartile i.e. 25th percentile\n",
    "    * 2nd Quartile i.e. Median\n",
    "    * 3rd Quartile i.e. 75th percentile\n",
    "    * Variance\n",
    "    * Standard Deviation\n",
    "* Take the data as an input from the csv file using pandas library\n",
    "* **Note:** .csv file is attached with this notebook."
   ]
  },
  {
   "cell_type": "markdown",
   "metadata": {},
   "source": [
    "#### 3. Student Report\n",
    "\n",
    "* Consider the given matrix\n",
    "    * [45,60,55,70,70,38]<br>[39,48,88,42,37,38]<br>[32,77,60,39,71,38]\n",
    "    * Here each row stands for marks obtained by a student and each column represents each subject i.e. 3 students and 6 subjects\n",
    "* Solve following questions for the given marks matrix\n",
    "    * Per subject how many students failed?\n",
    "    * How many subjects did each student fail in?\n",
    "    * What is the highest score in each subject?\n",
    "    * What is the lowest score in each subject?"
   ]
  }
 ],
 "metadata": {
  "kernelspec": {
   "display_name": "Python 3",
   "language": "python",
   "name": "python3"
  },
  "language_info": {
   "codemirror_mode": {
    "name": "ipython",
    "version": 3
   },
   "file_extension": ".py",
   "mimetype": "text/x-python",
   "name": "python",
   "nbconvert_exporter": "python",
   "pygments_lexer": "ipython3",
   "version": "3.6.2"
  }
 },
 "nbformat": 4,
 "nbformat_minor": 2
}
