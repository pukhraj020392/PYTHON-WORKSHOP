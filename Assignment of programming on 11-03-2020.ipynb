{
 "cells": [
  {
   "cell_type": "code",
   "execution_count": 1,
   "metadata": {},
   "outputs": [
    {
     "name": "stdout",
     "output_type": "stream",
     "text": [
      "hello\n"
     ]
    }
   ],
   "source": [
    "print('hello')"
   ]
  },
  {
   "cell_type": "code",
   "execution_count": 3,
   "metadata": {},
   "outputs": [],
   "source": [
    "import numpy as np"
   ]
  },
  {
   "cell_type": "code",
   "execution_count": 5,
   "metadata": {},
   "outputs": [],
   "source": [
    "import math"
   ]
  },
  {
   "cell_type": "markdown",
   "metadata": {},
   "source": [
    "Problem Statement no.1 \n",
    "The prime factors of 13195 are 5, 7, 13 and 29.What is the largest prime factor of the number 600851475143 ?"
   ]
  },
  {
   "cell_type": "code",
   "execution_count": 13,
   "metadata": {},
   "outputs": [
    {
     "name": "stdout",
     "output_type": "stream",
     "text": [
      "6857\n"
     ]
    }
   ],
   "source": [
    "# Python3 code to find largest prime \n",
    "# factor of number \n",
    "import math \n",
    "  \n",
    "# A function to find largest prime factor \n",
    "def maxPrimeFactors (n): \n",
    "      \n",
    "    # Initialize the maximum prime factor \n",
    "    # variable with the lowest one \n",
    "    maxPrime = -1\n",
    "      \n",
    "    # Print the number of 2s that divide n \n",
    "    while n % 2 == 0: \n",
    "        maxPrime = 2\n",
    "        n >>= 1     # equivalent to n /= 2 \n",
    "          \n",
    "    # n must be odd at this point,  \n",
    "    # thus skip the even numbers and  \n",
    "    # iterate only for odd integers \n",
    "    for i in range(3, int(math.sqrt(n)) + 1, 2): \n",
    "        while n % i == 0: \n",
    "            maxPrime = i \n",
    "            n = n / i \n",
    "      \n",
    "    # This condition is to handle the  \n",
    "    # case when n is a prime number  \n",
    "    # greater than 2 \n",
    "    if n > 2: \n",
    "        maxPrime = n \n",
    "      \n",
    "    return int(maxPrime)\n",
    "n = 600851475143\n",
    "print(maxPrimeFactors(n))\n",
    "\n",
    "  \n",
    "\n",
    "  "
   ]
  },
  {
   "cell_type": "markdown",
   "metadata": {},
   "source": [
    "Problem Statement no.2.A Pythagorean triplet is a set of three natural numbers, a < b < c, for which,a2 + b2 = c2. For example, 32 + 42 = 9 + 16 = 25 = 52.There exists exactly one Pythagorean triplet for which a + b + c = 1000.Find the product abc."
   ]
  },
  {
   "cell_type": "code",
   "execution_count": 30,
   "metadata": {},
   "outputs": [
    {
     "name": "stdout",
     "output_type": "stream",
     "text": [
      "200, 375, 425\n"
     ]
    }
   ],
   "source": [
    "# Python3 program to find  \n",
    "# Pythagorean Triplet of  \n",
    "# given sum. \n",
    "  \n",
    "def pythagoreanTriplet(n): \n",
    "  \n",
    "    # Considering triplets in  \n",
    "    # sorted order. The value  \n",
    "    # of first element in sorted  \n",
    "    # triplet can be at-most n/3. \n",
    "    for i in range(1, int(n / 3) + 1):  \n",
    "          \n",
    "        # The value of second element  \n",
    "        # must be less than equal to n/2 \n",
    "        for j in range(i + 1,  \n",
    "                       int(n / 2) + 1):  \n",
    "  \n",
    "            k = n - i - j \n",
    "            if (i * i + j * j == k * k):  \n",
    "                print(i, \", \", j, \", \",  \n",
    "                               k, sep = \"\") \n",
    "                return\n",
    "      \n",
    "    print(\"No Triplet\") \n",
    "      \n",
    "n = 1000\n",
    "pythagoreanTriplet(n)\n",
    "\n",
    "\n"
   ]
  },
  {
   "cell_type": "code",
   "execution_count": null,
   "metadata": {},
   "outputs": [],
   "source": []
  },
  {
   "cell_type": "code",
   "execution_count": null,
   "metadata": {},
   "outputs": [],
   "source": []
  }
 ],
 "metadata": {
  "kernelspec": {
   "display_name": "Python 3",
   "language": "python",
   "name": "python3"
  },
  "language_info": {
   "codemirror_mode": {
    "name": "ipython",
    "version": 3
   },
   "file_extension": ".py",
   "mimetype": "text/x-python",
   "name": "python",
   "nbconvert_exporter": "python",
   "pygments_lexer": "ipython3",
   "version": "3.7.4"
  }
 },
 "nbformat": 4,
 "nbformat_minor": 2
}
