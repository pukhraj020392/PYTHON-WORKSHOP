{
 "cells": [
  {
   "cell_type": "code",
   "execution_count": 17,
   "metadata": {},
   "outputs": [],
   "source": [
    "import numpy as np\n",
    "import scipy.special"
   ]
  },
  {
   "cell_type": "code",
   "execution_count": 47,
   "metadata": {},
   "outputs": [
    {
     "name": "stdout",
     "output_type": "stream",
     "text": [
      "enter the element:5\n"
     ]
    },
    {
     "ename": "TypeError",
     "evalue": "'list' object cannot be interpreted as an integer",
     "output_type": "error",
     "traceback": [
      "\u001b[1;31m---------------------------------------------------------------------------\u001b[0m",
      "\u001b[1;31mTypeError\u001b[0m                                 Traceback (most recent call last)",
      "\u001b[1;32m<ipython-input-47-c2cc109ea28d>\u001b[0m in \u001b[0;36m<module>\u001b[1;34m\u001b[0m\n\u001b[0;32m      1\u001b[0m \u001b[0mx\u001b[0m \u001b[1;33m=\u001b[0m \u001b[1;33m[\u001b[0m\u001b[1;33m]\u001b[0m\u001b[1;33m\u001b[0m\u001b[1;33m\u001b[0m\u001b[0m\n\u001b[0;32m      2\u001b[0m \u001b[0mn\u001b[0m \u001b[1;33m=\u001b[0m \u001b[0mint\u001b[0m\u001b[1;33m(\u001b[0m\u001b[0minput\u001b[0m\u001b[1;33m(\u001b[0m\u001b[1;34m\"enter the element:\"\u001b[0m\u001b[1;33m)\u001b[0m\u001b[1;33m)\u001b[0m\u001b[1;33m\u001b[0m\u001b[1;33m\u001b[0m\u001b[0m\n\u001b[1;32m----> 3\u001b[1;33m \u001b[1;32mfor\u001b[0m \u001b[0mh\u001b[0m \u001b[1;32min\u001b[0m \u001b[0mrange\u001b[0m\u001b[1;33m(\u001b[0m\u001b[0mx\u001b[0m\u001b[1;33m)\u001b[0m\u001b[1;33m:\u001b[0m\u001b[1;33m\u001b[0m\u001b[1;33m\u001b[0m\u001b[0m\n\u001b[0m\u001b[0;32m      4\u001b[0m     \u001b[0mh\u001b[0m \u001b[1;33m=\u001b[0m \u001b[0mscipy\u001b[0m\u001b[1;33m.\u001b[0m\u001b[0mspecial\u001b[0m\u001b[1;33m.\u001b[0m\u001b[0mfactorial\u001b[0m\u001b[1;33m(\u001b[0m\u001b[0mn\u001b[0m\u001b[1;33m)\u001b[0m\u001b[1;33m\u001b[0m\u001b[1;33m\u001b[0m\u001b[0m\n\u001b[0;32m      5\u001b[0m     \u001b[0mx\u001b[0m\u001b[1;33m.\u001b[0m\u001b[0mappend\u001b[0m\u001b[1;33m(\u001b[0m\u001b[0mh\u001b[0m\u001b[1;33m)\u001b[0m\u001b[1;33m\u001b[0m\u001b[1;33m\u001b[0m\u001b[0m\n",
      "\u001b[1;31mTypeError\u001b[0m: 'list' object cannot be interpreted as an integer"
     ]
    }
   ],
   "source": [
    "\n",
    "\n",
    "    \n",
    "    \n",
    "\n"
   ]
  },
  {
   "cell_type": "code",
   "execution_count": 49,
   "metadata": {},
   "outputs": [
    {
     "name": "stdout",
     "output_type": "stream",
     "text": [
      "[[67 84  5 90  8 83]\n",
      " [63 48 85 60 49 74]\n",
      " [27 13  9 61 15 93]\n",
      " [98 59 18 14 93 56]\n",
      " [ 9 51 68 53 53 71]]\n"
     ]
    }
   ],
   "source": [
    "import numpy as np\n",
    "\n",
    "a = np.random.RandomState(8)\n",
    "x = a.randint(100,size=(5,6))\n",
    "print(x)"
   ]
  },
  {
   "cell_type": "code",
   "execution_count": 29,
   "metadata": {},
   "outputs": [
    {
     "data": {
      "text/plain": [
       "array([[67, 84,  5, 90,  8, 83],\n",
       "       [63, 48, 85, 60, 49, 74],\n",
       "       [98, 59, 18, 14, 93, 56],\n",
       "       [ 9, 51, 68, 53, 53, 71]])"
      ]
     },
     "execution_count": 29,
     "metadata": {},
     "output_type": "execute_result"
    }
   ],
   "source": [
    "ind = [0,1,3,4]\n",
    "x[ind]"
   ]
  },
  {
   "cell_type": "code",
   "execution_count": 31,
   "metadata": {},
   "outputs": [
    {
     "data": {
      "text/plain": [
       "array([63,  5, 13, 14])"
      ]
     },
     "execution_count": 31,
     "metadata": {},
     "output_type": "execute_result"
    }
   ],
   "source": [
    "row = np.array([1,0,2,3])\n",
    "col = np.array([0,2,1,3])\n",
    "x[row,col]"
   ]
  },
  {
   "cell_type": "code",
   "execution_count": 35,
   "metadata": {},
   "outputs": [
    {
     "data": {
      "text/plain": [
       "array([[63, 85, 48, 60],\n",
       "       [67,  5, 84, 90],\n",
       "       [27,  9, 13, 61],\n",
       "       [98, 18, 59, 14]])"
      ]
     },
     "execution_count": 35,
     "metadata": {},
     "output_type": "execute_result"
    }
   ],
   "source": [
    "row = np.array([1,0,2,3])\n",
    "col = np.array([0,2,1,3])\n",
    "x[row [:, np.newaxis],col]"
   ]
  },
  {
   "cell_type": "code",
   "execution_count": 38,
   "metadata": {},
   "outputs": [
    {
     "data": {
      "text/plain": [
       "array([[2, 4, 6, 8],\n",
       "       [5, 7, 4, 8]])"
      ]
     },
     "execution_count": 38,
     "metadata": {},
     "output_type": "execute_result"
    }
   ],
   "source": [
    "\n",
    "a = np.array([[2,4,6,8],[5,7,4,8]])\n",
    "a"
   ]
  },
  {
   "cell_type": "code",
   "execution_count": 40,
   "metadata": {},
   "outputs": [
    {
     "data": {
      "text/plain": [
       "array([[[2, 4, 6, 8],\n",
       "        [5, 7, 4, 8]],\n",
       "\n",
       "       [[5, 7, 4, 8],\n",
       "        [2, 4, 6, 8]]])"
      ]
     },
     "execution_count": 40,
     "metadata": {},
     "output_type": "execute_result"
    }
   ],
   "source": [
    "ind = np.array([[0,1],[1,0]])\n",
    "a[ind]"
   ]
  },
  {
   "cell_type": "code",
   "execution_count": 52,
   "metadata": {},
   "outputs": [
    {
     "name": "stderr",
     "output_type": "stream",
     "text": [
      "C:\\ProgramData\\Anaconda3\\lib\\site-packages\\ipykernel_launcher.py:4: RuntimeWarning: covariance is not symmetric positive-semidefinite.\n",
      "  after removing the cwd from sys.path.\n"
     ]
    },
    {
     "data": {
      "text/plain": [
       "array([[ 2.44755706,  4.23844317],\n",
       "       [ 0.20558775,  2.87560777],\n",
       "       [-2.48184194, -1.72644339],\n",
       "       [ 1.79872191,  2.18104189],\n",
       "       [ 1.32248729,  4.18752748],\n",
       "       [ 0.25669259,  0.39036779],\n",
       "       [-1.27723582, -0.30524982],\n",
       "       [ 2.42118272,  2.41615348],\n",
       "       [-4.71061137, -6.25081714],\n",
       "       [ 0.19741546,  0.44373358],\n",
       "       [ 0.70046353,  1.75461961],\n",
       "       [ 0.56592291,  1.91721694],\n",
       "       [-0.06929015,  0.59616148],\n",
       "       [ 1.34939157,  0.89006308],\n",
       "       [ 0.60174159,  1.03065955],\n",
       "       [-1.02128191, -1.8051627 ],\n",
       "       [ 2.41912684,  3.63369901],\n",
       "       [-0.99757256, -0.70474257],\n",
       "       [ 1.22356991,  1.09566015],\n",
       "       [ 1.18482908,  2.13908785],\n",
       "       [ 0.70962282,  1.11406412],\n",
       "       [-2.15079179, -0.16384395],\n",
       "       [ 2.5154604 ,  4.53357446],\n",
       "       [ 0.76695363,  1.58894189],\n",
       "       [-1.69836232,  0.05739482],\n",
       "       [ 1.23201802,  2.65561712],\n",
       "       [-5.06096315, -3.99022134],\n",
       "       [ 0.12605648,  0.58953086],\n",
       "       [-1.260763  , -0.70714917],\n",
       "       [ 0.40704591,  1.22777879],\n",
       "       [-0.11943097,  0.8060473 ],\n",
       "       [-1.67818926, -0.16213021],\n",
       "       [ 0.97441883,  1.06030302],\n",
       "       [-0.17443796,  1.00554105],\n",
       "       [ 1.26370321,  2.95136547],\n",
       "       [-0.21770829,  0.4387607 ],\n",
       "       [-0.85651098, -0.66322576],\n",
       "       [-2.63112202, -1.80574466],\n",
       "       [-2.68654999, -3.71056972],\n",
       "       [-2.1116313 , -0.02296437],\n",
       "       [-3.19949649, -0.5855924 ],\n",
       "       [-1.96670916,  2.60400732],\n",
       "       [ 0.49973385,  1.26990275],\n",
       "       [-0.25261922,  1.36497668],\n",
       "       [-0.78718598,  2.78931934],\n",
       "       [-0.59773316,  1.00638592],\n",
       "       [-0.29233288, -1.16156711],\n",
       "       [-3.0942743 , -1.61783037],\n",
       "       [ 1.40781775,  2.83740795],\n",
       "       [-1.65152417, -0.5748503 ],\n",
       "       [ 0.43259282,  1.51464855],\n",
       "       [ 0.61023223,  1.93192256],\n",
       "       [ 0.16254425,  1.42768512],\n",
       "       [ 0.46225637,  1.27984719],\n",
       "       [-0.09301278,  3.55973758],\n",
       "       [ 1.28346015,  1.75643424],\n",
       "       [-0.41921294,  1.85962703],\n",
       "       [ 0.13286115,  0.24325158],\n",
       "       [ 1.86208294,  5.17499843],\n",
       "       [ 1.1254681 ,  3.74287078],\n",
       "       [-3.44300984, -2.28895293],\n",
       "       [-0.97818423, -1.10220754],\n",
       "       [-0.95314422, -0.59467657],\n",
       "       [ 0.94529529,  2.82550386],\n",
       "       [ 1.35898865,  3.80459837],\n",
       "       [ 1.72225773,  3.28557193],\n",
       "       [ 1.23606752,  2.15299962],\n",
       "       [-0.53235874, -2.40006592],\n",
       "       [-0.6180638 ,  1.91940176],\n",
       "       [-2.26774993, -1.79431806],\n",
       "       [-1.88137675, -0.12933584],\n",
       "       [ 0.91611826,  2.02177002],\n",
       "       [ 2.12620688,  2.39869389],\n",
       "       [-2.4060553 , -2.5145208 ],\n",
       "       [ 0.49912396,  2.44075399],\n",
       "       [ 0.31218446,  1.82914307],\n",
       "       [ 1.47500266,  2.20672885],\n",
       "       [ 1.29314021,  2.77728171],\n",
       "       [-2.86387531, -1.78767864],\n",
       "       [-0.29645374,  1.2212195 ],\n",
       "       [-0.81311809,  0.53607709],\n",
       "       [ 2.60184687,  5.15843896],\n",
       "       [ 1.78482218,  2.36589264],\n",
       "       [ 0.35289031,  1.46949193],\n",
       "       [-0.05390463,  1.00878233],\n",
       "       [ 1.20868143,  4.21376041],\n",
       "       [ 1.7165885 ,  4.35092456],\n",
       "       [ 2.60334709,  4.23794507],\n",
       "       [-4.30054338, -4.15932386],\n",
       "       [ 4.43317669,  6.78305708],\n",
       "       [ 2.43297757,  3.36831888],\n",
       "       [-0.81048352,  1.4614701 ],\n",
       "       [-1.25558094, -0.41618723],\n",
       "       [-0.05111979,  1.50967088],\n",
       "       [-4.32395147, -4.5757005 ],\n",
       "       [-0.09560336,  0.80427281],\n",
       "       [ 1.43506515,  2.94969063],\n",
       "       [ 1.0721693 ,  0.46044212],\n",
       "       [ 2.24979293,  2.44245343],\n",
       "       [ 0.33008954,  2.60488856]])"
      ]
     },
     "execution_count": 52,
     "metadata": {},
     "output_type": "execute_result"
    }
   ],
   "source": [
    "rand = np.random.RandomState(50)\n",
    "mean = [0,1,3]\n",
    "cov = [[1,2],[4,5]]\n",
    "x = rand.multivariate_normal(mean, cov,100)\n",
    "x"
   ]
  },
  {
   "cell_type": "code",
   "execution_count": 56,
   "metadata": {},
   "outputs": [
    {
     "data": {
      "text/plain": [
       "<function ndarray.reshape>"
      ]
     },
     "execution_count": 56,
     "metadata": {},
     "output_type": "execute_result"
    },
    {
     "data": {
      "image/png": "[encoded data removed]",
      "text/plain": [
       "<Figure size 432x288 with 1 Axes>"
      ]
     },
     "metadata": {
      "needs_background": "light"
     },
     "output_type": "display_data"
    }
   ],
   "source": [
    "import matplotlib.pyplot as plt\n",
    "plt.scatter(x[:,0],x[:, 1])"
   ]
  },
  {
   "cell_type": "code",
   "execution_count": 70,
   "metadata": {},
   "outputs": [
    {
     "data": {
      "text/plain": [
       "array([[6, 8, 6, 4, 5],\n",
       "       [7, 2, 6, 9, 1],\n",
       "       [0, 1, 5, 6, 0],\n",
       "       [1, 3, 6, 1, 8],\n",
       "       [4, 3, 7, 9, 5]])"
      ]
     },
     "execution_count": 70,
     "metadata": {},
     "output_type": "execute_result"
    }
   ],
   "source": [
    "a = np.random.randint(low=10, size=(5,5))\n",
    "a"
   ]
  },
  {
   "cell_type": "code",
   "execution_count": 73,
   "metadata": {},
   "outputs": [
    {
     "name": "stderr",
     "output_type": "stream",
     "text": [
      "C:\\ProgramData\\Anaconda3\\lib\\site-packages\\ipykernel_launcher.py:4: RuntimeWarning: covariance is not symmetric positive-semidefinite.\n",
      "  after removing the cwd from sys.path.\n"
     ]
    },
    {
     "data": {
      "text/plain": [
       "array([[ 2.44755706,  4.23844317],\n",
       "       [ 0.20558775,  2.87560777],\n",
       "       [-2.48184194, -1.72644339],\n",
       "       [ 1.79872191,  2.18104189],\n",
       "       [ 1.32248729,  4.18752748],\n",
       "       [ 0.25669259,  0.39036779],\n",
       "       [-1.27723582, -0.30524982],\n",
       "       [ 2.42118272,  2.41615348],\n",
       "       [-4.71061137, -6.25081714],\n",
       "       [ 0.19741546,  0.44373358],\n",
       "       [ 0.70046353,  1.75461961],\n",
       "       [ 0.56592291,  1.91721694],\n",
       "       [-0.06929015,  0.59616148],\n",
       "       [ 1.34939157,  0.89006308],\n",
       "       [ 0.60174159,  1.03065955],\n",
       "       [-1.02128191, -1.8051627 ],\n",
       "       [ 2.41912684,  3.63369901],\n",
       "       [-0.99757256, -0.70474257],\n",
       "       [ 1.22356991,  1.09566015],\n",
       "       [ 1.18482908,  2.13908785],\n",
       "       [ 0.70962282,  1.11406412],\n",
       "       [-2.15079179, -0.16384395],\n",
       "       [ 2.5154604 ,  4.53357446],\n",
       "       [ 0.76695363,  1.58894189],\n",
       "       [-1.69836232,  0.05739482],\n",
       "       [ 1.23201802,  2.65561712],\n",
       "       [-5.06096315, -3.99022134],\n",
       "       [ 0.12605648,  0.58953086],\n",
       "       [-1.260763  , -0.70714917],\n",
       "       [ 0.40704591,  1.22777879],\n",
       "       [-0.11943097,  0.8060473 ],\n",
       "       [-1.67818926, -0.16213021],\n",
       "       [ 0.97441883,  1.06030302],\n",
       "       [-0.17443796,  1.00554105],\n",
       "       [ 1.26370321,  2.95136547],\n",
       "       [-0.21770829,  0.4387607 ],\n",
       "       [-0.85651098, -0.66322576],\n",
       "       [-2.63112202, -1.80574466],\n",
       "       [-2.68654999, -3.71056972],\n",
       "       [-2.1116313 , -0.02296437],\n",
       "       [-3.19949649, -0.5855924 ],\n",
       "       [-1.96670916,  2.60400732],\n",
       "       [ 0.49973385,  1.26990275],\n",
       "       [-0.25261922,  1.36497668],\n",
       "       [-0.78718598,  2.78931934],\n",
       "       [-0.59773316,  1.00638592],\n",
       "       [-0.29233288, -1.16156711],\n",
       "       [-3.0942743 , -1.61783037],\n",
       "       [ 1.40781775,  2.83740795],\n",
       "       [-1.65152417, -0.5748503 ],\n",
       "       [ 0.43259282,  1.51464855],\n",
       "       [ 0.61023223,  1.93192256],\n",
       "       [ 0.16254425,  1.42768512],\n",
       "       [ 0.46225637,  1.27984719],\n",
       "       [-0.09301278,  3.55973758],\n",
       "       [ 1.28346015,  1.75643424],\n",
       "       [-0.41921294,  1.85962703],\n",
       "       [ 0.13286115,  0.24325158],\n",
       "       [ 1.86208294,  5.17499843],\n",
       "       [ 1.1254681 ,  3.74287078],\n",
       "       [-3.44300984, -2.28895293],\n",
       "       [-0.97818423, -1.10220754],\n",
       "       [-0.95314422, -0.59467657],\n",
       "       [ 0.94529529,  2.82550386],\n",
       "       [ 1.35898865,  3.80459837],\n",
       "       [ 1.72225773,  3.28557193],\n",
       "       [ 1.23606752,  2.15299962],\n",
       "       [-0.53235874, -2.40006592],\n",
       "       [-0.6180638 ,  1.91940176],\n",
       "       [-2.26774993, -1.79431806],\n",
       "       [-1.88137675, -0.12933584],\n",
       "       [ 0.91611826,  2.02177002],\n",
       "       [ 2.12620688,  2.39869389],\n",
       "       [-2.4060553 , -2.5145208 ],\n",
       "       [ 0.49912396,  2.44075399],\n",
       "       [ 0.31218446,  1.82914307],\n",
       "       [ 1.47500266,  2.20672885],\n",
       "       [ 1.29314021,  2.77728171],\n",
       "       [-2.86387531, -1.78767864],\n",
       "       [-0.29645374,  1.2212195 ],\n",
       "       [-0.81311809,  0.53607709],\n",
       "       [ 2.60184687,  5.15843896],\n",
       "       [ 1.78482218,  2.36589264],\n",
       "       [ 0.35289031,  1.46949193],\n",
       "       [-0.05390463,  1.00878233],\n",
       "       [ 1.20868143,  4.21376041],\n",
       "       [ 1.7165885 ,  4.35092456],\n",
       "       [ 2.60334709,  4.23794507],\n",
       "       [-4.30054338, -4.15932386],\n",
       "       [ 4.43317669,  6.78305708],\n",
       "       [ 2.43297757,  3.36831888],\n",
       "       [-0.81048352,  1.4614701 ],\n",
       "       [-1.25558094, -0.41618723],\n",
       "       [-0.05111979,  1.50967088],\n",
       "       [-4.32395147, -4.5757005 ],\n",
       "       [-0.09560336,  0.80427281],\n",
       "       [ 1.43506515,  2.94969063],\n",
       "       [ 1.0721693 ,  0.46044212],\n",
       "       [ 2.24979293,  2.44245343],\n",
       "       [ 0.33008954,  2.60488856]])"
      ]
     },
     "execution_count": 73,
     "metadata": {},
     "output_type": "execute_result"
    }
   ],
   "source": [
    "rand = np.random.RandomState(50)\n",
    "mean = [0,1]\n",
    "cov = [[1,2],[4,5]]\n",
    "x = rand.multivariate_normal(mean, cov,100)\n",
    "x"
   ]
  },
  {
   "cell_type": "code",
   "execution_count": 81,
   "metadata": {},
   "outputs": [
    {
     "data": {
      "text/plain": [
       "<matplotlib.collections.PathCollection at 0xf813c16860>"
      ]
     },
     "execution_count": 81,
     "metadata": {},
     "output_type": "execute_result"
    },
    {
     "data": {
      "image/png": "[encoded data removed]",
      "text/plain": [
       "<Figure size 432x288 with 1 Axes>"
      ]
     },
     "metadata": {
      "needs_background": "light"
     },
     "output_type": "display_data"
    }
   ],
   "source": [
    "indices = np.random.choice(x.shape[0],20,replace = False)\n",
    "indices\n",
    "selection = x[indices]\n",
    "\n",
    "plt.scatter(x[:,0],x[:,1],alpha=0.6)\n",
    "plt.scatter(selection[:,0],selection[:,1],facecolor='gray',s=200)"
   ]
  },
  {
   "cell_type": "code",
   "execution_count": null,
   "metadata": {},
   "outputs": [],
   "source": []
  }
 ],
 "metadata": {
  "kernelspec": {
   "display_name": "Python 3",
   "language": "python",
   "name": "python3"
  },
  "language_info": {
   "codemirror_mode": {
    "name": "ipython",
    "version": 3
   },
   "file_extension": ".py",
   "mimetype": "text/x-python",
   "name": "python",
   "nbconvert_exporter": "python",
   "pygments_lexer": "ipython3",
   "version": "3.7.3"
  }
 },
 "nbformat": 4,
 "nbformat_minor": 2
}
