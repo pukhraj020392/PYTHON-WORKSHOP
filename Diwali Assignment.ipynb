{
 "cells": [
  {
   "cell_type": "markdown",
   "metadata": {},
   "source": [
    "## Exploratory Data Analysis (EDA)"
   ]
  },
  {
   "cell_type": "markdown",
   "metadata": {},
   "source": [
    "#### What is EDA?\n",
    "Imagine you and your friends are planning to have dinner and lies in fornt of you is the toughest decision to choose a place to eat. After a while into planning you will find yourself in a situation where you start asking questions which needs to be answered in order to come to a decision. You would end up asking questions like what cuisine to choose from? or what is the best cafe in a certain vicinity? Whatever question answer you do before coming to conclusion is what data scientists call 'Exploratory Data Analysis'."
   ]
  },
  {
   "cell_type": "markdown",
   "metadata": {},
   "source": [
    "#### Definition\n",
    "Exploratory Data Analysis refers to the critical process of performing initial investigations on data so as to discover patterns to spot anomalies, to test hypothesis and to check assumptions with the help of summary statistics and graphical representation."
   ]
  },
  {
   "cell_type": "markdown",
   "metadata": {},
   "source": [
    "It is a good practice to try to understand the data first and try to gather as many insights from it."
   ]
  },
  {
   "cell_type": "markdown",
   "metadata": {},
   "source": [
    "#### What comprises of an EDA?\n",
    "* Summary Statistics\n",
    "* Investigations on Missing Values\n",
    "* Visually presenting the data\n",
    "    * Correlation plots\n",
    "    * Distribution plots\n",
    "    * Box plots\n",
    "* And all other methods to answer questions that may arise regarding the data\n",
    "<br><br>**Note:** Explore more techniques of EDA to perform on your data."
   ]
  },
  {
   "cell_type": "markdown",
   "metadata": {},
   "source": [
    "### The Assignment\n",
    "Attached with this notebook are 2 datasets (.csv files). Load those files into your code and perform EDA on the same.<br><br>\n",
    "**Dataset 1:** Wine Quality<br>\n",
    "**Dataset 2:** Telecom Customer Churn"
   ]
  }
 ],
 "metadata": {
  "kernelspec": {
   "display_name": "Python 3",
   "language": "python",
   "name": "python3"
  },
  "language_info": {
   "codemirror_mode": {
    "name": "ipython",
    "version": 3
   },
   "file_extension": ".py",
   "mimetype": "text/x-python",
   "name": "python",
   "nbconvert_exporter": "python",
   "pygments_lexer": "ipython3",
   "version": "3.6.2"
  }
 },
 "nbformat": 4,
 "nbformat_minor": 2
}
