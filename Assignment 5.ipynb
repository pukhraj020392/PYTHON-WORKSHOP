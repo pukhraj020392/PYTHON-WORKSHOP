{
 "cells": [
  {
   "cell_type": "markdown",
   "metadata": {},
   "source": [
    "#### 1. Corrupt Data\n",
    "\n",
    "* You recently found out that the data entry software that you are using has a bug in it. It inputs wrong data into all the columns whose index is a prime number for the rows whose index is a common multiple of 2 and 3.\n",
    "* Make use of fancy indexing to get a hold of these data points and replace them with '-999' so as to tag the data as corrupted.\n",
    "* For eg:\n",
    "    * Input:<br>[1,2,3,4,5,6]<br>[7,8,9,10,11,12]<br>[13,14,15,16,17,18]<br>[19,20,21,22,23,24]<br>[25,26,27,28,29,30]<br>[31,32,33,34,35,36]<br>[37,38,39,40,41,42]\n",
    "    * Output:<br>[1,2,3,4,5,6]<br>[7,8,9,10,11,12]<br>[13,14,15,16,17,18]<br>[19,20,21,22,23,24]<br>[25,26,27,28,29,30]<br>[31,32,33,34,35,36]<br>[37,38,-999,-999,41,-999]\n",
    "* **Note:** q1.csv is attached with this notebook."
   ]
  },
  {
   "cell_type": "markdown",
   "metadata": {},
   "source": [
    "#### 2. Best Sorting Algorithm\n",
    "\n",
    "* Numpy's np.sort() function uses Quicksort algorithm to sort the arrays faster.\n",
    "* Using numpy's basic functions that we learned earlier, write the algorithm for Insertion sort and then compare the time taken by your function and np.sort().\n",
    "* Let's see which is faster."
   ]
  },
  {
   "cell_type": "code",
   "execution_count": 62,
   "metadata": {},
   "outputs": [
    {
     "name": "stdout",
     "output_type": "stream",
     "text": [
      "4.82 µs ± 198 ns per loop (mean ± std. dev. of 7 runs, 100000 loops each)\n"
     ]
    }
   ],
   "source": [
    "a=([28,3,56,7,82])\n",
    "np.sort(a)\n",
    "%timeit np.sort(a)"
   ]
  },
  {
   "cell_type": "code",
   "execution_count": null,
   "metadata": {},
   "outputs": [],
   "source": []
  },
  {
   "cell_type": "markdown",
   "metadata": {},
   "source": [
    "#### 3. Employee Dataset\n",
    "\n",
    "* You are fairly new company and as it is growing you are finding it difficult to maintain your employee records. You wish to create a database of your employee details so as to make it easy for you to summarize.\n",
    "* Using Numpy's structured arrays create a employees' dataset which has following columns\n",
    "    * Name\n",
    "    * Age\n",
    "    * Experience (in months)\n",
    "    * Department (Core, IT, HR)\n",
    "    * Salary\n",
    "    * **Note:** Add atleast 15 employee records.\n",
    "* Once the data is created analyze your employees' distribution.\n",
    "    * Find out what is the average age of your employees.\n",
    "    * Find out how many employees work in each Department.\n",
    "    * Find out the average salary of employees working in each Department.\n",
    "    * Find out how many interns work in your company i.e. Experience < 6 months"
   ]
  },
  {
   "cell_type": "code",
   "execution_count": 50,
   "metadata": {},
   "outputs": [
    {
     "data": {
      "text/plain": [
       "array([['sagar', '18', '10', 'it', '20000'],\n",
       "       ['pratik', '20', '4', 'core', '2300'],\n",
       "       ['taral', '21', '5', 'core', '2400']], dtype='<U6')"
      ]
     },
     "execution_count": 50,
     "metadata": {},
     "output_type": "execute_result"
    }
   ],
   "source": [
    "import numpy as np\n",
    "a=np.array([['sagar',18,10,'it',20000],['pratik',20,4,'core',2300],['taral',21,5,'core',2400]])\n",
    "a\n",
    "\n"
   ]
  },
  {
   "cell_type": "code",
   "execution_count": 57,
   "metadata": {},
   "outputs": [
    {
     "ename": "TypeError",
     "evalue": "cannot perform reduce with flexible type",
     "output_type": "error",
     "traceback": [
      "\u001b[1;31m---------------------------------------------------------------------------\u001b[0m",
      "\u001b[1;31mTypeError\u001b[0m                                 Traceback (most recent call last)",
      "\u001b[1;32m<ipython-input-57-f1616a8f2a4d>\u001b[0m in \u001b[0;36m<module>\u001b[1;34m\u001b[0m\n\u001b[0;32m      2\u001b[0m \u001b[0mcolumn\u001b[0m\u001b[1;33m=\u001b[0m\u001b[0mnp\u001b[0m\u001b[1;33m.\u001b[0m\u001b[0marray\u001b[0m\u001b[1;33m(\u001b[0m\u001b[1;33m[\u001b[0m\u001b[1;36m1\u001b[0m\u001b[1;33m]\u001b[0m\u001b[1;33m)\u001b[0m\u001b[1;33m\u001b[0m\u001b[1;33m\u001b[0m\u001b[0m\n\u001b[0;32m      3\u001b[0m \u001b[0ma\u001b[0m\u001b[1;33m[\u001b[0m\u001b[0mrow\u001b[0m\u001b[1;33m,\u001b[0m\u001b[0mcolumn\u001b[0m\u001b[1;33m]\u001b[0m\u001b[1;33m\u001b[0m\u001b[1;33m\u001b[0m\u001b[0m\n\u001b[1;32m----> 4\u001b[1;33m \u001b[0mq\u001b[0m\u001b[1;33m=\u001b[0m\u001b[0mnp\u001b[0m\u001b[1;33m.\u001b[0m\u001b[0mmean\u001b[0m\u001b[1;33m(\u001b[0m\u001b[0ma\u001b[0m\u001b[1;33m)\u001b[0m\u001b[1;33m\u001b[0m\u001b[1;33m\u001b[0m\u001b[0m\n\u001b[0m\u001b[0;32m      5\u001b[0m \u001b[0mq\u001b[0m\u001b[1;33m\u001b[0m\u001b[1;33m\u001b[0m\u001b[0m\n",
      "\u001b[1;32m~\\Anaconda3\\lib\\site-packages\\numpy\\core\\fromnumeric.py\u001b[0m in \u001b[0;36mmean\u001b[1;34m(a, axis, dtype, out, keepdims)\u001b[0m\n\u001b[0;32m   3116\u001b[0m \u001b[1;33m\u001b[0m\u001b[0m\n\u001b[0;32m   3117\u001b[0m     return _methods._mean(a, axis=axis, dtype=dtype,\n\u001b[1;32m-> 3118\u001b[1;33m                           out=out, **kwargs)\n\u001b[0m\u001b[0;32m   3119\u001b[0m \u001b[1;33m\u001b[0m\u001b[0m\n\u001b[0;32m   3120\u001b[0m \u001b[1;33m\u001b[0m\u001b[0m\n",
      "\u001b[1;32m~\\Anaconda3\\lib\\site-packages\\numpy\\core\\_methods.py\u001b[0m in \u001b[0;36m_mean\u001b[1;34m(a, axis, dtype, out, keepdims)\u001b[0m\n\u001b[0;32m     73\u001b[0m             \u001b[0mis_float16_result\u001b[0m \u001b[1;33m=\u001b[0m \u001b[1;32mTrue\u001b[0m\u001b[1;33m\u001b[0m\u001b[1;33m\u001b[0m\u001b[0m\n\u001b[0;32m     74\u001b[0m \u001b[1;33m\u001b[0m\u001b[0m\n\u001b[1;32m---> 75\u001b[1;33m     \u001b[0mret\u001b[0m \u001b[1;33m=\u001b[0m \u001b[0mumr_sum\u001b[0m\u001b[1;33m(\u001b[0m\u001b[0marr\u001b[0m\u001b[1;33m,\u001b[0m \u001b[0maxis\u001b[0m\u001b[1;33m,\u001b[0m \u001b[0mdtype\u001b[0m\u001b[1;33m,\u001b[0m \u001b[0mout\u001b[0m\u001b[1;33m,\u001b[0m \u001b[0mkeepdims\u001b[0m\u001b[1;33m)\u001b[0m\u001b[1;33m\u001b[0m\u001b[1;33m\u001b[0m\u001b[0m\n\u001b[0m\u001b[0;32m     76\u001b[0m     \u001b[1;32mif\u001b[0m \u001b[0misinstance\u001b[0m\u001b[1;33m(\u001b[0m\u001b[0mret\u001b[0m\u001b[1;33m,\u001b[0m \u001b[0mmu\u001b[0m\u001b[1;33m.\u001b[0m\u001b[0mndarray\u001b[0m\u001b[1;33m)\u001b[0m\u001b[1;33m:\u001b[0m\u001b[1;33m\u001b[0m\u001b[1;33m\u001b[0m\u001b[0m\n\u001b[0;32m     77\u001b[0m         ret = um.true_divide(\n",
      "\u001b[1;31mTypeError\u001b[0m: cannot perform reduce with flexible type"
     ]
    }
   ],
   "source": [
    "row=np.array([0,1,2])\n",
    "column=np.array([1])\n",
    "a[row,column]\n",
    "q=np.mean(a)\n",
    "q"
   ]
  },
  {
   "cell_type": "code",
   "execution_count": 53,
   "metadata": {},
   "outputs": [
    {
     "name": "stdout",
     "output_type": "stream",
     "text": [
      "[['18']\n",
      " ['20']\n",
      " ['21']]\n"
     ]
    }
   ],
   "source": [
    "b=a[row[:,np.newaxis],column]\n",
    "print(b)\n"
   ]
  },
  {
   "cell_type": "code",
   "execution_count": 55,
   "metadata": {},
   "outputs": [
    {
     "name": "stdout",
     "output_type": "stream",
     "text": [
      "[['18']\n",
      " ['20']\n",
      " ['21']]\n"
     ]
    }
   ],
   "source": [
    "ro=np.array([0,1,2])\n",
    "col=np.array([3])\n",
    "c=a[row[:,np.newaxis],column]\n",
    "print(c)"
   ]
  },
  {
   "cell_type": "code",
   "execution_count": 54,
   "metadata": {},
   "outputs": [
    {
     "name": "stdout",
     "output_type": "stream",
     "text": [
      "[['10' '18' '20' '20000' '21' '2300' '2400' '4' '5' 'core' 'it' 'pratik'\n",
      "  'sagar' 'taral']\n",
      " ['1' '1' '1' '1' '1' '1' '1' '1' '1' '2' '1' '1' '1' '1']]\n"
     ]
    }
   ],
   "source": [
    "d=c[ro[:,np.newaxis],col]\n",
    "unique_elements, counts_elements = np.unique(a, return_counts=True)\n",
    "print(np.asarray((unique_elements, counts_elements)))"
   ]
  },
  {
   "cell_type": "code",
   "execution_count": null,
   "metadata": {},
   "outputs": [],
   "source": []
  }
 ],
 "metadata": {
  "kernelspec": {
   "display_name": "Python 3",
   "language": "python",
   "name": "python3"
  },
  "language_info": {
   "codemirror_mode": {
    "name": "ipython",
    "version": 3
   },
   "file_extension": ".py",
   "mimetype": "text/x-python",
   "name": "python",
   "nbconvert_exporter": "python",
   "pygments_lexer": "ipython3",
   "version": "3.7.4"
  }
 },
 "nbformat": 4,
 "nbformat_minor": 2
}
