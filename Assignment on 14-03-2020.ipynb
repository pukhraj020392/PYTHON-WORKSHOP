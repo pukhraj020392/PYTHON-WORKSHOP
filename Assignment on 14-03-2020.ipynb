{
 "cells": [
  {
   "cell_type": "code",
   "execution_count": 1,
   "metadata": {},
   "outputs": [
    {
     "data": {
      "text/plain": [
       "'hello'"
      ]
     },
     "execution_count": 1,
     "metadata": {},
     "output_type": "execute_result"
    }
   ],
   "source": [
    "'hello'"
   ]
  },
  {
   "cell_type": "markdown",
   "metadata": {},
   "source": [
    "PROBLEMS NO.10.\tThe series, 11 + 22 + 33 + ... + 1010 = 10405071317.Find the last ten digits of the series, 11 + 22 + 33 + ... + 10001000."
   ]
  },
  {
   "cell_type": "code",
   "execution_count": 2,
   "metadata": {},
   "outputs": [
    {
     "name": "stdout",
     "output_type": "stream",
     "text": [
      "Project Solution = 9110846700\n"
     ]
    }
   ],
   "source": [
    "L = 1000    \n",
    "d = 10**10\n",
    "#s = sum(pow(n, n, d) for n in range(1, L+1)) \n",
    "s = sum(pow(n, n) for n in range(1, L+1)) \n",
    "\n",
    "print (\"Project Solution = %d\" % (s % d))"
   ]
  },
  {
   "cell_type": "markdown",
   "metadata": {},
   "source": [
    "Problem no.11.\tThe number 512 is interesting because it is equal to the sum of its digits raised to some power: 5 + 1 + 2 = 8, and 83 = 512. Another example of a number with this property is 614656 = 284.We shall define an to be the nth term of this sequence and insist that a number must contain at least two digits to have a sum.You are given that a2 = 512 and a10 = 614656.Find a30."
   ]
  },
  {
   "cell_type": "code",
   "execution_count": 5,
   "metadata": {},
   "outputs": [
    {
     "name": "stdout",
     "output_type": "stream",
     "text": [
      "248155780267521\n"
     ]
    }
   ],
   "source": [
    "from time import time; t=time()\n",
    "\n",
    "# How can we make sure the magic limit number 100 & 20?\n",
    "\n",
    "L = 30\n",
    "\n",
    "ret = set()\n",
    "for a in range(100):\n",
    "    x = a\n",
    "    for b in range(20):\n",
    "        x *= a\n",
    "        if x < 10: continue\n",
    "        if sum(int(i) for i in str(x)) == a: ret.add(x)\n",
    "\n",
    "print(sorted(ret)[L-1])#, len(ret), time()-t"
   ]
  },
  {
   "cell_type": "markdown",
   "metadata": {},
   "source": [
    "Problems no.12.\tFind the smallest x + y + z with integers x > y > z > 0 such that x + y, x − y, x + z, x − z, y + z, y − z are all perfect squares."
   ]
  },
  {
   "cell_type": "code",
   "execution_count": 10,
   "metadata": {},
   "outputs": [
    {
     "name": "stdout",
     "output_type": "stream",
     "text": [
      "x + y = 855625\n",
      "x - y = 13689\n",
      "x + z = 585225\n",
      "x - z = 284089\n",
      "y + z = 571536\n",
      "y - z = 270400\n",
      "(925, 765, 756) => 1006193\n"
     ]
    },
    {
     "ename": "SystemExit",
     "evalue": "",
     "output_type": "error",
     "traceback": [
      "An exception has occurred, use %tb to see the full traceback.\n",
      "\u001b[1;31mSystemExit\u001b[0m\n"
     ]
    },
    {
     "name": "stderr",
     "output_type": "stream",
     "text": [
      "C:\\Users\\PUKHRAJ\\Anaconda3\\lib\\site-packages\\IPython\\core\\interactiveshell.py:3334: UserWarning: To exit: use 'exit', 'quit', or Ctrl-D.\n",
      "  warn(\"To exit: use 'exit', 'quit', or Ctrl-D.\", stacklevel=1)\n"
     ]
    }
   ],
   "source": [
    "import sys\n",
    "      \n",
    "def main():\n",
    "    squares = set([n*n for n in range(1, 1000)])\n",
    "    for a in range(1, 1000):\n",
    "        a2 = a*a\n",
    "        for b in range(1, a):\n",
    "            b2 = b*b\n",
    "            for c in range(1, b):\n",
    "                c2 = c*c\n",
    "                if b2 - c2 in squares and a2 - c2 in squares and a2 - b2 in squares:\n",
    "                    if (a2 + b2 + c2) % 2 == 0 and a2 > b2 - c2 and b2 > a2 - c2 and c2 > a2 - b2:\n",
    "                        print('''x + y = %d''' % a2)\n",
    "                        print('''x - y = %d''' % (b2 - c2))\n",
    "                        print('''x + z = %d''' % b2)\n",
    "                        print('''x - z = %d''' % (a2 - c2))\n",
    "                        print('''y + z = %d''' % c2)\n",
    "                        print('''y - z = %d''' % (a2 - b2))\n",
    "                        print('''(%d, %d, %d) => %d''' % (a, b, c, (a2 + b2 + c2)/2))\n",
    "        \n",
    "if __name__ == '__main__':\n",
    "    sys.exit(main())"
   ]
  },
  {
   "cell_type": "markdown",
   "metadata": {},
   "source": [
    "Problem no.13.\tThe palindromic number 595 is interesting because it can be written as the sum of consecutive squares: 62 + 72 + 82 + 92 + 102 + 112 + 122.There are exactly eleven palindromes below onethousand that can be written as consecutive square sums, and the sum of these palindromes is 4164. Note that 1 = 02 + 12 has not been included as this problem is concerned with the squares of positive integers.Find the sum of all the numbers less than 108 that are both palindromic and can be written as the sum of consecutive squares."
   ]
  },
  {
   "cell_type": "code",
   "execution_count": 22,
   "metadata": {},
   "outputs": [
    {
     "name": "stdout",
     "output_type": "stream",
     "text": [
      "2906969179\n"
     ]
    }
   ],
   "source": [
    "import itertools\n",
    "\n",
    "\n",
    "def compute():\n",
    "    nums = set()\n",
    "    for i in range(1, 10001):\n",
    "        sigma = i * i\n",
    "        for j in itertools.count(i + 1):\n",
    "            sigma += j * j\n",
    "            if sigma >= 100000000:\n",
    "                break\n",
    "            s = str(sigma)\n",
    "            if s == s[ : : -1]:  # Is palindrome\n",
    "                nums.add(sigma)\n",
    "    return str(sum(nums))\n",
    "\n",
    "\n",
    "if __name__ == \"__main__\":\n",
    "    print(compute())"
   ]
  },
  {
   "cell_type": "code",
   "execution_count": null,
   "metadata": {},
   "outputs": [],
   "source": []
  }
 ],
 "metadata": {
  "kernelspec": {
   "display_name": "Python 3",
   "language": "python",
   "name": "python3"
  },
  "language_info": {
   "codemirror_mode": {
    "name": "ipython",
    "version": 3
   },
   "file_extension": ".py",
   "mimetype": "text/x-python",
   "name": "python",
   "nbconvert_exporter": "python",
   "pygments_lexer": "ipython3",
   "version": "3.7.4"
  }
 },
 "nbformat": 4,
 "nbformat_minor": 2
}
