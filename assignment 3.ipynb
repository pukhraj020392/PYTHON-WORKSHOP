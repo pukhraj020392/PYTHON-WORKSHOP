{
 "cells": [
  {
   "cell_type": "code",
   "execution_count": 9,
   "metadata": {},
   "outputs": [
    {
     "ename": "SyntaxError",
     "evalue": "invalid syntax (<ipython-input-9-ddc6204ab448>, line 1)",
     "output_type": "error",
     "traceback": [
      "\u001b[1;36m  File \u001b[1;32m\"<ipython-input-9-ddc6204ab448>\"\u001b[1;36m, line \u001b[1;32m1\u001b[0m\n\u001b[1;33m    def generate email():\u001b[0m\n\u001b[1;37m                     ^\u001b[0m\n\u001b[1;31mSyntaxError\u001b[0m\u001b[1;31m:\u001b[0m invalid syntax\n"
     ]
    }
   ],
   "source": [
    "def generate email(a,b,c):\n",
    "a = input(\"ENTER THE FIRST NAME:\")\n",
    "b = input(\"ENTER THE LAST NAME:\")\n",
    "C = input(\"ENTER THE DOB DD/MM/YYYY:\")\n"
   ]
  },
  {
   "cell_type": "code",
   "execution_count": 20,
   "metadata": {},
   "outputs": [
    {
     "name": "stdout",
     "output_type": "stream",
     "text": [
      "ENTER THE FIRST NAME:pukhraj\n",
      "ENTER THE LAST NAME:suthar\n",
      "ENTER THE DOB DD/MM/YYYY:02/03/199\n",
      "email pus0203199@xyz.com\n"
     ]
    }
   ],
   "source": [
    "def generate_email():\n",
    "    \n",
    "    a = input(\"ENTER THE FIRST NAME:\")\n",
    "    b = input(\"ENTER THE LAST NAME:\")\n",
    "    c = input(\"ENTER THE DOB DD/MM/YYYY:\")\n",
    "        \n",
    "    email = \"\"\n",
    "    \n",
    "    email = email + a[0:2].lower()\n",
    "    email = email + b[0].lower()\n",
    "    email = email + c.replace(\"/\",\"\") + \"@xyz.com\"\n",
    "    return email\n",
    "email = generate_email()\n",
    "print(\"email\", email)\n",
    "\n"
   ]
  },
  {
   "cell_type": "code",
   "execution_count": 48,
   "metadata": {},
   "outputs": [
    {
     "name": "stdout",
     "output_type": "stream",
     "text": [
      "[[148  51 126]\n",
      " [215 142 139]\n",
      " [210 230 213]]\n",
      "[[10 10 10]\n",
      " [10 10 10]\n",
      " [10 10 10]]\n",
      "[[138  41 116]\n",
      " [205 132 129]\n",
      " [200 220 203]]\n"
     ]
    }
   ],
   "source": [
    "matrix = np.random.randint(0,255,(3,3))\n",
    "print(matrix)\n",
    "matrix1 = np.full((3,3),10)\n",
    "print(matrix1)\n",
    "c = matrix-matrix1\n",
    "print(c)"
   ]
  },
  {
   "cell_type": "code",
   "execution_count": 4,
   "metadata": {},
   "outputs": [],
   "source": []
  },
  {
   "cell_type": "code",
   "execution_count": 3,
   "metadata": {},
   "outputs": [
    {
     "data": {
      "text/plain": [
       "[1, 2, 3, 4, 5, 6]"
      ]
     },
     "execution_count": 3,
     "metadata": {},
     "output_type": "execute_result"
    }
   ],
   "source": []
  },
  {
   "cell_type": "code",
   "execution_count": 21,
   "metadata": {},
   "outputs": [],
   "source": [
    "import numpy as np"
   ]
  },
  {
   "cell_type": "code",
   "execution_count": 23,
   "metadata": {},
   "outputs": [
    {
     "data": {
      "text/plain": [
       "array([[252,  63,  83],\n",
       "       [ 46, 113,  87],\n",
       "       [163,  48, 233]])"
      ]
     },
     "execution_count": 23,
     "metadata": {},
     "output_type": "execute_result"
    }
   ],
   "source": [
    "\n",
    "\n",
    "matrix = np.random.randint(0,255,(3,3))\n",
    "matrix"
   ]
  },
  {
   "cell_type": "code",
   "execution_count": 25,
   "metadata": {},
   "outputs": [
    {
     "data": {
      "text/plain": [
       "array([[10, 10, 10],\n",
       "       [10, 10, 10],\n",
       "       [10, 10, 10]])"
      ]
     },
     "execution_count": 25,
     "metadata": {},
     "output_type": "execute_result"
    }
   ],
   "source": [
    "matrix1 = np.full((3,3),10)\n",
    "matrix1"
   ]
  },
  {
   "cell_type": "code",
   "execution_count": 26,
   "metadata": {},
   "outputs": [
    {
     "data": {
      "text/plain": [
       "array([[242,  53,  73],\n",
       "       [ 36, 103,  77],\n",
       "       [153,  38, 223]])"
      ]
     },
     "execution_count": 26,
     "metadata": {},
     "output_type": "execute_result"
    }
   ],
   "source": [
    "matrix-matrix1"
   ]
  },
  {
   "cell_type": "code",
   "execution_count": 27,
   "metadata": {},
   "outputs": [
    {
     "data": {
      "text/plain": [
       "array([[242,  53,  73],\n",
       "       [ 36, 103,  77],\n",
       "       [153,  38, 223]])"
      ]
     },
     "execution_count": 27,
     "metadata": {},
     "output_type": "execute_result"
    }
   ],
   "source": [
    "np.subtract(matrix,matrix1)"
   ]
  },
  {
   "cell_type": "code",
   "execution_count": 42,
   "metadata": {},
   "outputs": [
    {
     "name": "stdout",
     "output_type": "stream",
     "text": [
      "enter the value:12\n",
      "enter the value:41\n",
      "enter the value:10\n",
      "enter the value:15\n",
      "enter the value:15\n",
      "enter the value:14\n",
      "enter the value:47\n",
      "enter the value:42\n",
      "enter the value:47\n",
      "positive skewed\n"
     ]
    }
   ],
   "source": [
    "s = []\n",
    "for i in range(9):\n",
    "    s.append(int(input('enter the value:')))\n",
    "s.sort()\n",
    "mean = np.mean(s)\n",
    "median = np.median(s)\n",
    "    \n",
    "if mean > median:\n",
    "    print (\"positive skewed\")\n",
    "elif mean < median:\n",
    "    print(\"negative skewed\")\n",
    "else:\n",
    "    print (\"normal curve\")\n"
   ]
  },
  {
   "cell_type": "code",
   "execution_count": 29,
   "metadata": {},
   "outputs": [
    {
     "name": "stdout",
     "output_type": "stream",
     "text": [
      "[2, 5, 51, 1, 24, 54, 65, 65, 55]\n"
     ]
    }
   ],
   "source": [
    "8"
   ]
  },
  {
   "cell_type": "code",
   "execution_count": 30,
   "metadata": {},
   "outputs": [],
   "source": [
    "s.sort()"
   ]
  },
  {
   "cell_type": "code",
   "execution_count": 31,
   "metadata": {},
   "outputs": [
    {
     "data": {
      "text/plain": [
       "[1, 2, 5, 24, 51, 54, 55, 65, 65]"
      ]
     },
     "execution_count": 31,
     "metadata": {},
     "output_type": "execute_result"
    }
   ],
   "source": [
    "s"
   ]
  },
  {
   "cell_type": "code",
   "execution_count": 38,
   "metadata": {},
   "outputs": [],
   "source": [
    "mean = np.mean(s)"
   ]
  },
  {
   "cell_type": "code",
   "execution_count": 39,
   "metadata": {},
   "outputs": [],
   "source": [
    "median = np.median(s)"
   ]
  },
  {
   "cell_type": "code",
   "execution_count": 35,
   "metadata": {},
   "outputs": [
    {
     "data": {
      "text/plain": [
       "array([ 1,  2,  5, 24, 51, 54, 55, 65, 65])"
      ]
     },
     "execution_count": 35,
     "metadata": {},
     "output_type": "execute_result"
    }
   ],
   "source": []
  },
  {
   "cell_type": "code",
   "execution_count": 40,
   "metadata": {},
   "outputs": [
    {
     "name": "stdout",
     "output_type": "stream",
     "text": [
      "negative skewed\n"
     ]
    }
   ],
   "source": [
    "if mean > median:\n",
    "    print (\"positive skewed\")\n",
    "elif mean < median:\n",
    "    print(\"negative skewed\")\n",
    "else:\n",
    "    print (\"normal curve\")\n"
   ]
  },
  {
   "cell_type": "code",
   "execution_count": 44,
   "metadata": {},
   "outputs": [
    {
     "name": "stdout",
     "output_type": "stream",
     "text": [
      "ENTER THE  x1 cordinate:10\n",
      "ENTER THE x2  cordinate:12\n",
      "ENTER THE  y1 cordinate:4\n",
      "ENTER THE  y2 cordinate:45\n",
      "41.048751503547585 euclidean diatance\n",
      "43 manhattan distance\n"
     ]
    }
   ],
   "source": [
    "x1 = int(input(\"ENTER THE  x1 cordinate:\"))\n",
    "x2 = int(input(\"ENTER THE x2  cordinate:\"))\n",
    "y1 = int(input(\"ENTER THE  y1 cordinate:\"))\n",
    "y2 = int(input(\"ENTER THE  y2 cordinate:\"))\n",
    "s =np.sqrt((x2-x1)**2+(y2-y1)**2)\n",
    "p = np.abs(x2-x1) + np.abs(y2-y1)\n",
    "print(s,\"euclidean diatance\")\n",
    "print(p,\"manhattan distance\")"
   ]
  },
  {
   "cell_type": "code",
   "execution_count": 46,
   "metadata": {},
   "outputs": [
    {
     "name": "stdout",
     "output_type": "stream",
     "text": [
      "enter the value:1\n",
      "enter the value:2\n",
      "enter the value:3\n",
      "enter the value:4\n",
      "[0.0320586  0.08714432 0.23688282 0.64391426]\n",
      "1.0\n"
     ]
    }
   ],
   "source": [
    "s = []\n",
    "for i in range(4):\n",
    "    s.append(int(input('enter the value:')))\n",
    "l = np.exp(s)\n",
    "d = np.sum(l)\n",
    "total = l/d\n",
    "print(total)\n",
    "print(np.sum(total))\n"
   ]
  },
  {
   "cell_type": "code",
   "execution_count": null,
   "metadata": {},
   "outputs": [],
   "source": []
  }
 ],
 "metadata": {
  "kernelspec": {
   "display_name": "Python 3",
   "language": "python",
   "name": "python3"
  },
  "language_info": {
   "codemirror_mode": {
    "name": "ipython",
    "version": 3
   },
   "file_extension": ".py",
   "mimetype": "text/x-python",
   "name": "python",
   "nbconvert_exporter": "python",
   "pygments_lexer": "ipython3",
   "version": "3.7.3"
  }
 },
 "nbformat": 4,
 "nbformat_minor": 2
}
