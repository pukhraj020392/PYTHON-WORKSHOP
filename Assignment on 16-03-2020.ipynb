{
 "cells": [
  {
   "cell_type": "code",
   "execution_count": null,
   "metadata": {},
   "outputs": [],
   "source": []
  },
  {
   "cell_type": "markdown",
   "metadata": {},
   "source": [
    "Problem no.18.\tA 30×30 grid of squares contains 900 fleas, initially one flea per square.When a bell is rung, each flea jumps to an adjacent square at random (usually 4 possibilities, except for fleas on the edge of the grid or at the corners). What is the expected number of unoccupied squares after 50 rings of the bell? Give your answer rounded to six decimal places."
   ]
  },
  {
   "cell_type": "code",
   "execution_count": null,
   "metadata": {},
   "outputs": [
    {
     "name": "stderr",
     "output_type": "stream",
     "text": [
      "C:\\Users\\PUKHRAJ\\Anaconda3\\lib\\site-packages\\ipykernel_launcher.py:59: DeprecationWarning: time.clock has been deprecated in Python 3.3 and will be removed from Python 3.8: use time.perf_counter or time.process_time instead\n"
     ]
    },
    {
     "name": "stdout",
     "output_type": "stream",
     "text": [
      "6 13198 1000\n",
      "Elapsed: 19.40014980000001\n"
     ]
    },
    {
     "name": "stderr",
     "output_type": "stream",
     "text": [
      "C:\\Users\\PUKHRAJ\\Anaconda3\\lib\\site-packages\\ipykernel_launcher.py:62: DeprecationWarning: time.clock has been deprecated in Python 3.3 and will be removed from Python 3.8: use time.perf_counter or time.process_time instead\n"
     ]
    },
    {
     "name": "stdout",
     "output_type": "stream",
     "text": [
      "8 23511 1000\n",
      "Elapsed: 32.882019000000014\n",
      "10 36679 1000\n",
      "Elapsed: 44.72488629999998\n",
      "12 53122 1000\n",
      "Elapsed: 71.18740249999996\n",
      "14 72150 1000\n",
      "Elapsed: 94.34109910000006\n",
      "16 94295 1000\n",
      "Elapsed: 122.21691480000004\n",
      "18 119207 1000\n",
      "Elapsed: 160.04567050000003\n"
     ]
    }
   ],
   "source": [
    "import collections\n",
    "import random\n",
    "\n",
    "def init(size) :\n",
    "\td = collections.defaultdict(int)\n",
    "\tfor i in range(size) :\n",
    "\t\tfor j in range(size) :\n",
    "\t\t\td[i,j] = 1\n",
    "\treturn d\n",
    "\n",
    "LEFT, RIGHT, UP, DOWN = range(4)\n",
    "alldirs = (LEFT, RIGHT, UP, DOWN)\n",
    "\n",
    "def directions(i, j, size) :\n",
    "\tif i not in (0, size-1) and j not in (0, size-1) :\n",
    "\t\treturn alldirs\n",
    "\telse :\n",
    "\t\tresults = set(alldirs)\n",
    "\t\tif i == 0 :\n",
    "\t\t\tresults -= set([UP])\n",
    "\t\tif i == size-1 :\n",
    "\t\t\tresults -= set([DOWN])\n",
    "\t\tif j == 0 :\n",
    "\t\t\tresults -= set([LEFT])\n",
    "\t\tif j == size-1 :\n",
    "\t\t\tresults -= set([RIGHT])\n",
    "\t\treturn tuple(ss for ss in results)\n",
    "\n",
    "def newPos(i, j, jump, size) :\n",
    "\tif jump == LEFT :\n",
    "\t\tj -= 1\n",
    "\telif jump == RIGHT :\n",
    "\t\tj += 1\n",
    "\telif jump == UP :\n",
    "\t\ti -= 1\n",
    "\telif jump == DOWN :\n",
    "\t\ti += 1\n",
    "\treturn (i, j)\n",
    "\n",
    "def euler213(size, iterations) :\n",
    "\td = init(size)\n",
    "\tfor m in range(iterations) :\n",
    "\t\tdst = collections.defaultdict(int)\n",
    "\t\tfor i in range(size) :\n",
    "\t\t\tfor j in range(size) :\n",
    "\t\t\t\tdirs = directions(i, j, size)\n",
    "\t\t\t\tfor x in range(d[i,j]) :\n",
    "\t\t\t\t\tjumpint = random.randint(0, len(dirs)-1)\n",
    "\t\t\t\t\tnewi, newj = newPos(i, j, dirs[jumpint], size)\n",
    "\t\t\t\t\tdst[newi, newj] += 1\n",
    "\t\td = dst\n",
    "\treturn size*size - len(d)\n",
    "\n",
    "if __name__ == \"__main__\" :\n",
    "\timport time\n",
    "\titers, trial_iters = 1000, 50\n",
    "\t\n",
    "\tfor size in range(6, 24, 2) :\n",
    "\t\ts = time.clock()\n",
    "\t\tc = sum(euler213(size, trial_iters) for _ in range(iters))\n",
    "\t\tprint (\"{0} {1} {2}\".format(size, c, iters))\n",
    "\t\te = time.clock()\n",
    "\t\tprint (\"Elapsed: {0}\".format(e - s))"
   ]
  },
  {
   "cell_type": "markdown",
   "metadata": {},
   "source": [
    "Problem no.19.\tA positive integer with k (decimal) digits is called balanced if its first ⌈k/2⌉ digits sum to the same value as its last ⌈k/2⌉ digits, where ⌈x⌉, pronounced ceiling of x, is the smallest integer ≥ x, thus ⌈π⌉ = 4 and ⌈5⌉ = 5. So, for example, all palindromes are balanced, as is 13722.Let T(n) be the sum of all balanced numbers less than 10n.Thus: T(1) = 45, T(2) = 540 and T(5) = 334795890.Find T(47) mod 315"
   ]
  },
  {
   "cell_type": "code",
   "execution_count": null,
   "metadata": {},
   "outputs": [],
   "source": []
  }
 ],
 "metadata": {
  "kernelspec": {
   "display_name": "Python 3",
   "language": "python",
   "name": "python3"
  },
  "language_info": {
   "codemirror_mode": {
    "name": "ipython",
    "version": 3
   },
   "file_extension": ".py",
   "mimetype": "text/x-python",
   "name": "python",
   "nbconvert_exporter": "python",
   "pygments_lexer": "ipython3",
   "version": "3.7.4"
  }
 },
 "nbformat": 4,
 "nbformat_minor": 2
}
