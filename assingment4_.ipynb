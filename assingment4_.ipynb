{
 "cells": [
  {
   "cell_type": "markdown",
   "metadata": {},
   "source": [
    "Assingment4_pukhraj"
   ]
  },
  {
   "cell_type": "markdown",
   "metadata": {},
   "source": [
    "1.find factorial"
   ]
  },
  {
   "cell_type": "code",
   "execution_count": 1,
   "metadata": {},
   "outputs": [],
   "source": [
    "import numpy as np"
   ]
  },
  {
   "cell_type": "code",
   "execution_count": 2,
   "metadata": {},
   "outputs": [
    {
     "name": "stdout",
     "output_type": "stream",
     "text": [
      "enter the values:5\n"
     ]
    },
    {
     "data": {
      "text/plain": [
       "array([  1,   2,   6,  24, 120], dtype=int32)"
      ]
     },
     "execution_count": 2,
     "metadata": {},
     "output_type": "execute_result"
    }
   ],
   "source": [
    "n = int(input(\"enter the values:\"))\n",
    "np.multiply.accumulate(np.arange(1,n+1))"
   ]
  },
  {
   "cell_type": "markdown",
   "metadata": {},
   "source": [
    "2.summarizing data"
   ]
  },
  {
   "cell_type": "code",
   "execution_count": 3,
   "metadata": {},
   "outputs": [],
   "source": [
    "import pandas as pd"
   ]
  },
  {
   "cell_type": "code",
   "execution_count": 15,
   "metadata": {},
   "outputs": [
    {
     "name": "stdout",
     "output_type": "stream",
     "text": [
      "    Values\n",
      "0   428.00\n",
      "1   989.00\n",
      "2   662.00\n",
      "3   723.00\n",
      "4   957.00\n",
      "5   256.00\n",
      "6   931.00\n",
      "7   376.00\n",
      "8   837.00\n",
      "9   539.00\n",
      "10  763.00\n",
      "11  458.00\n",
      "12  749.00\n",
      "13  340.00\n",
      "14  522.00\n",
      "15  806.00\n",
      "16  412.00\n",
      "17  687.00\n",
      "18  941.00\n",
      "19  973.00\n",
      "20  757.00\n",
      "21  927.00\n",
      "22  459.00\n",
      "23    3.32\n",
      "24  445.00\n",
      "25   92.20\n",
      "26  248.00\n",
      "27  597.00\n",
      "28  153.00\n",
      "29  739.00\n",
      "Values    989.0\n",
      "dtype: float64 Values    3.32\n",
      "dtype: float64 Values    592.317333\n",
      "dtype: float64 Values    275.639327\n",
      "dtype: float64 Values    75977.038713\n",
      "dtype: float64 416.0 629.5 795.25\n"
     ]
    }
   ],
   "source": [
    "da = pd.read_csv('data.csv')\n",
    "print(da)\n",
    "x = np.max(da)\n",
    "y = np.min(da)\n",
    "z = np.mean(da)\n",
    "a = np.std(da)\n",
    "b = np.var(da)\n",
    "c = np.quantile(da,0.25)\n",
    "d = np.quantile(da,0.5)\n",
    "e = np.quantile(da,0.75)\n",
    "print(x,y,z,a,b,c,d,e)"
   ]
  },
  {
   "cell_type": "markdown",
   "metadata": {},
   "source": [
    "3.Student Report"
   ]
  },
  {
   "cell_type": "code",
   "execution_count": 25,
   "metadata": {},
   "outputs": [
    {
     "name": "stdout",
     "output_type": "stream",
     "text": [
      "[[45 60 55 70 70 38]\n",
      " [39 48 88 42 37 38]\n",
      " [32 77 60 39 71 38]]\n",
      "maximun in all subject [45, 77, 88, 70, 71, 38]\n",
      "minimum in all subject [32, 48, 55, 39, 37, 38]\n"
     ]
    }
   ],
   "source": [
    "x = np.array([[45,60,55,70,70,38],[39,48,88,42,37,38],[32,77,60,39,71,38]])\n",
    "print(x)\n",
    "a = []\n",
    "l = []\n",
    "for i in range(6):\n",
    "    m = np.max(x[ : ,i])\n",
    "    l.append(m)\n",
    "    n = np.min(x[ : ,i])\n",
    "    a.append(n)\n",
    "print(\"maximun in all subject\",l)\n",
    "print(\"minimum in all subject\",a)\n",
    "\n",
    "    \n",
    "    \n",
    "    "
   ]
  }
 ],
 "metadata": {
  "kernelspec": {
   "display_name": "Python 3",
   "language": "python",
   "name": "python3"
  },
  "language_info": {
   "codemirror_mode": {
    "name": "ipython",
    "version": 3
   },
   "file_extension": ".py",
   "mimetype": "text/x-python",
   "name": "python",
   "nbconvert_exporter": "python",
   "pygments_lexer": "ipython3",
   "version": "3.7.3"
  }
 },
 "nbformat": 4,
 "nbformat_minor": 2
}
