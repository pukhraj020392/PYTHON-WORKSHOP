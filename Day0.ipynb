{
 "cells": [
  {
   "cell_type": "code",
   "execution_count": 14,
   "metadata": {},
   "outputs": [
    {
     "name": "stdout",
     "output_type": "stream",
     "text": [
      "enter the base:10\n",
      "enter the height:10\n",
      "50.0\n"
     ]
    }
   ],
   "source": [
    "a = int(input(\"enter the base:\"))\n",
    "h = int(input(\"enter the height:\"))\n",
    "class Area:\n",
    "    def triangle(self,a,h):\n",
    "        self.a = a\n",
    "        self.h = h\n",
    "        total = (1/2*(a*h))\n",
    "        return total\n",
    "x = Area()\n",
    "ans = x.triangle(a,h)\n",
    "print(ans)"
   ]
  },
  {
   "cell_type": "code",
   "execution_count": 18,
   "metadata": {},
   "outputs": [
    {
     "name": "stdout",
     "output_type": "stream",
     "text": [
      "enter value of a10\n",
      "enter value of b10\n",
      "a and b are same\n"
     ]
    }
   ],
   "source": [
    "a = input('enter value of a')\n",
    "b = input('enter value of b')\n",
    "if a == b:\n",
    "    print(\"a and b are same\")\n",
    "    \n",
    "    "
   ]
  },
  {
   "cell_type": "code",
   "execution_count": 22,
   "metadata": {},
   "outputs": [
    {
     "name": "stdout",
     "output_type": "stream",
     "text": [
      "enter value of a13\n",
      "a is odd\n"
     ]
    }
   ],
   "source": [
    "a = int(input('enter value of a'))\n",
    "#b = int(input('enter value of b'))\n",
    "if a%2 == 0:\n",
    "     print(\"a is even\")\n",
    "    \n",
    "else:\n",
    "    print('a is odd')"
   ]
  },
  {
   "cell_type": "code",
   "execution_count": null,
   "metadata": {},
   "outputs": [],
   "source": [
    "if expression:\n",
    "    statement(S)\n",
    "    \n",
    "elif expression2:\n",
    "    statement(s)\n",
    "    \n",
    "elif expression:\n",
    "    statement(s)\n",
    "    \n",
    "else:"
   ]
  },
  {
   "cell_type": "code",
   "execution_count": 20,
   "metadata": {},
   "outputs": [
    {
     "data": {
      "text/plain": [
       "0"
      ]
     },
     "execution_count": 20,
     "metadata": {},
     "output_type": "execute_result"
    }
   ],
   "source": [
    "4%2"
   ]
  },
  {
   "cell_type": "code",
   "execution_count": 2,
   "metadata": {},
   "outputs": [
    {
     "name": "stdout",
     "output_type": "stream",
     "text": [
      "s \n",
      "s \n",
      "s \n",
      "s \n",
      "s \n",
      "s \n",
      "s \n",
      "s \n",
      "s \n",
      "s \n",
      "s \n"
     ]
    }
   ],
   "source": [
    "s = \"*\"\n",
    "for row in range (0,7):\n",
    "    for column in range(0,7):\n",
    "        if ( column == 1 or (row == 6 and column != 0 and column<6)):\n",
    "            \n",
    "        \n",
    "            \n",
    "            \n",
    "            \n",
    "    "
   ]
  },
  {
   "cell_type": "code",
   "execution_count": 1,
   "metadata": {},
   "outputs": [
    {
     "name": "stdout",
     "output_type": "stream",
     "text": [
      "*   *\n",
      " * * \n",
      "  *  \n",
      " * * \n",
      "*    \n",
      "\n"
     ]
    }
   ],
   "source": [
    " s = \"\"\n",
    "for i in range(5):\n",
    "    for j in range(5):\n",
    "        if (i == 0 and j == 0 ) or (i == 0 and j == 4) or (i == 1 and j == 1) or (i == 1 and j == 3) or (i == 2 and j == 2) or (i == 3 and j == 1) or (i == 3 and j == 3) or (i == 4 and j == 0) or (i == 0 and j == 4) or (i == 5 and j == 0) or (i == 5 and j == 5):\n",
    "            s = s+\"*\"\n",
    "        else:\n",
    "            s = s+\" \"\n",
    "    s=s+\"\\n\"\n",
    "print(s)\n"
   ]
  },
  {
   "cell_type": "code",
   "execution_count": 7,
   "metadata": {},
   "outputs": [
    {
     "name": "stdout",
     "output_type": "stream",
     "text": [
      "enter the number:10\n",
      "100\n"
     ]
    }
   ],
   "source": [
    "a = int(input(\"enter the number:\"))\n",
    "def square(a):\n",
    "     return(a*a)\n",
    "#square(a)\n",
    "print(square(a))"
   ]
  },
  {
   "cell_type": "code",
   "execution_count": 8,
   "metadata": {},
   "outputs": [
    {
     "name": "stdout",
     "output_type": "stream",
     "text": [
      "enter the number:25\n",
      "5.0\n"
     ]
    }
   ],
   "source": [
    "a = int(input(\"enter the number:\"))\n",
    "def squareroot(x):\n",
    "    return(x**(1/2))\n",
    "print(squareroot(a))"
   ]
  },
  {
   "cell_type": "code",
   "execution_count": 19,
   "metadata": {},
   "outputs": [
    {
     "name": "stdout",
     "output_type": "stream",
     "text": [
      "enter the number:25\n",
      "enter the number:25\n",
      "addition: 50\n",
      "multiply: 625\n",
      "division: 1.0\n"
     ]
    }
   ],
   "source": [
    "a = int(input(\"enter the number:\"))\n",
    "b = int(input(\"enter the number:\"))\n",
    "class calculator:\n",
    "    def addition(a,b):\n",
    "        c = a + b\n",
    "        return(c)\n",
    "    print(\"addition:\", addition (a,b))\n",
    "\n",
    "    def multiply(a,b):\n",
    "        c = a*b\n",
    "        return(c)\n",
    "    print(\"multiply:\", multiply (a,b))\n",
    "\n",
    "    def division(a,b):\n",
    "        c = a/b\n",
    "        return(c)\n",
    "    print(\"division:\", division (a,b))\n",
    "        "
   ]
  },
  {
   "cell_type": "code",
   "execution_count": 9,
   "metadata": {},
   "outputs": [
    {
     "name": "stdout",
     "output_type": "stream",
     "text": [
      "enter the number:12\n",
      "144\n",
      "3.4641016151377544\n"
     ]
    }
   ],
   "source": [
    ")a = int(input(\"enter the number:\")\n",
    "class calculator:\n",
    "    \n",
    "    def square(a):\n",
    "        \n",
    "        return(a*a)\n",
    "    print(square(a))\n",
    "\n",
    "    def squareroot(x):\n",
    "        \n",
    "        return(x**(1/2))\n",
    "    print(squareroot(a))\n"
   ]
  },
  {
   "cell_type": "code",
   "execution_count": 4,
   "metadata": {},
   "outputs": [
    {
     "name": "stdout",
     "output_type": "stream",
     "text": [
      "enter no.:10\n",
      "enter no.:10\n",
      "enter no.:10\n",
      "enter no.:10\n",
      "addition: 40\n",
      "multiply: 10000\n"
     ]
    }
   ],
   "source": [
    "s = []\n",
    "for i in range(1,12,3):\n",
    "    x = int(input(\"enter no.:\"))\n",
    "    s.append(x)\n",
    "def addition(t):\n",
    "    t = 0\n",
    "    for i in s:\n",
    "        t = t+i\n",
    "    return(t)\n",
    "print(\"addition:\",addition(s))\n",
    "\n",
    "def multiply(t):\n",
    "    t=1\n",
    "    for i in s:\n",
    "        t=t*i\n",
    "    return(t)\n",
    "print(\"multiply:\",multiply(s))"
   ]
  },
  {
   "cell_type": "code",
   "execution_count": null,
   "metadata": {},
   "outputs": [],
   "source": []
  },
  {
   "cell_type": "code",
   "execution_count": 3,
   "metadata": {},
   "outputs": [
    {
     "data": {
      "text/plain": [
       "<module 'numpy' from 'C:\\\\ProgramData\\\\Anaconda3\\\\lib\\\\site-packages\\\\numpy\\\\__init__.py'>"
      ]
     },
     "execution_count": 3,
     "metadata": {},
     "output_type": "execute_result"
    }
   ],
   "source": [
    "import numpy as np\n",
    "np.__version__\n",
    "np?\n",
    "np"
   ]
  },
  {
   "cell_type": "code",
   "execution_count": null,
   "metadata": {},
   "outputs": [],
   "source": [
    "from numpy import *"
   ]
  },
  {
   "cell_type": "code",
   "execution_count": 2,
   "metadata": {},
   "outputs": [
    {
     "data": {
      "text/plain": [
       "['0', '1', '2', '3', '4', '5', '6', '7', '8', '9']"
      ]
     },
     "execution_count": 2,
     "metadata": {},
     "output_type": "execute_result"
    }
   ],
   "source": [
    "l = []\n",
    "l = list(range(10))\n",
    "l\n",
    "l2 = [str(c) for c in (l)]\n",
    "l2"
   ]
  },
  {
   "cell_type": "code",
   "execution_count": 11,
   "metadata": {},
   "outputs": [
    {
     "data": {
      "text/plain": [
       "dtype('float64')"
      ]
     },
     "execution_count": 11,
     "metadata": {},
     "output_type": "execute_result"
    }
   ],
   "source": [
    "np.array([1.567888, 2, 3, 4, 5, 6]).dtype"
   ]
  },
  {
   "cell_type": "code",
   "execution_count": 19,
   "metadata": {},
   "outputs": [
    {
     "data": {
      "text/plain": [
       "array([1.56788888, 2.        , 3.        , 4.        , 5.        ,\n",
       "       6.        ])"
      ]
     },
     "execution_count": 19,
     "metadata": {},
     "output_type": "execute_result"
    }
   ],
   "source": [
    "np.array([1.567888883, 2, 3, 4, 5, 6],dtype='float64')"
   ]
  },
  {
   "cell_type": "code",
   "execution_count": 23,
   "metadata": {},
   "outputs": [
    {
     "data": {
      "text/plain": [
       "array([0., 0., 0., 0., 0., 0., 0., 0., 0., 0.])"
      ]
     },
     "execution_count": 23,
     "metadata": {},
     "output_type": "execute_result"
    }
   ],
   "source": [
    "np.zeros(10)\n"
   ]
  },
  {
   "cell_type": "code",
   "execution_count": 6,
   "metadata": {},
   "outputs": [
    {
     "data": {
      "text/plain": [
       "array([[1, 1, 1],\n",
       "       [1, 1, 1],\n",
       "       [1, 1, 1]])"
      ]
     },
     "execution_count": 6,
     "metadata": {},
     "output_type": "execute_result"
    }
   ],
   "source": [
    "np.ones((3,3),dtype=int)"
   ]
  },
  {
   "cell_type": "code",
   "execution_count": 10,
   "metadata": {},
   "outputs": [
    {
     "data": {
      "text/plain": [
       "array([[ 3.86814652e-02,  1.05842377e-03, -3.63633236e-02, ...,\n",
       "         1.47244184e+00, -2.33634552e-01,  1.38456036e+00],\n",
       "       [ 9.84299940e-01, -7.43954575e-01, -7.14686814e-01, ...,\n",
       "         1.02934296e+00, -7.42920679e-01,  5.50852031e-01],\n",
       "       [ 5.72258347e-02,  1.28552211e+00,  1.63830107e+00, ...,\n",
       "        -1.49605771e+00,  7.86967330e-01,  7.97332655e-01],\n",
       "       ...,\n",
       "       [-1.20015265e+00, -1.35495302e+00, -1.28447652e+00, ...,\n",
       "        -1.29384758e+00,  9.20913157e-01, -4.01080006e-01],\n",
       "       [-1.19007624e+00, -1.16494411e-01,  8.70037017e-01, ...,\n",
       "        -1.40356198e+00, -5.25422842e-01, -1.01560399e+00],\n",
       "       [ 9.07444655e-01, -5.03223273e-01,  8.32342640e-01, ...,\n",
       "         6.08411831e-02,  6.94572174e-02,  6.68785586e-01]])"
      ]
     },
     "execution_count": 10,
     "metadata": {},
     "output_type": "execute_result"
    }
   ],
   "source": [
    "np.random.normal(,1,(100,100))"
   ]
  },
  {
   "cell_type": "code",
   "execution_count": 13,
   "metadata": {},
   "outputs": [
    {
     "data": {
      "text/plain": [
       "array([ 0,  5, 10, 15, 20, 25, 30, 35, 40, 45, 50, 55, 60, 65, 70, 75, 80,\n",
       "       85, 90, 95])"
      ]
     },
     "execution_count": 13,
     "metadata": {},
     "output_type": "execute_result"
    }
   ],
   "source": [
    "np.arange(0,100,5)"
   ]
  },
  {
   "cell_type": "code",
   "execution_count": 15,
   "metadata": {},
   "outputs": [
    {
     "data": {
      "text/plain": [
       "array([[[[1.94033201e-01, 3.15241223e-01, 5.37715645e-01,\n",
       "          9.60846667e-01],\n",
       "         [1.33442986e-01, 6.29265134e-01, 7.80012117e-01,\n",
       "          5.54227827e-01],\n",
       "         [1.67777402e-03, 2.90981149e-01, 5.71994179e-01,\n",
       "          3.00337715e-01],\n",
       "         [5.71364988e-03, 4.83326552e-01, 5.24885197e-01,\n",
       "          1.41572683e-01]],\n",
       "\n",
       "        [[7.24815264e-01, 1.92357868e-01, 5.97882540e-01,\n",
       "          1.14192505e-01],\n",
       "         [3.32528055e-01, 6.89734879e-01, 3.76092869e-01,\n",
       "          8.94484372e-01],\n",
       "         [5.28321944e-01, 8.01573942e-01, 1.54555058e-01,\n",
       "          5.09146096e-01],\n",
       "         [4.25661055e-01, 3.68293714e-01, 8.39616405e-01,\n",
       "          8.43664919e-01]],\n",
       "\n",
       "        [[5.48112387e-01, 4.85144106e-01, 1.41780761e-01,\n",
       "          1.72998074e-01],\n",
       "         [7.27539615e-01, 2.65251064e-01, 5.67135431e-01,\n",
       "          5.36674520e-01],\n",
       "         [8.59198120e-01, 5.87785516e-01, 3.46085446e-01,\n",
       "          3.30348860e-01],\n",
       "         [4.50607099e-01, 9.55888619e-01, 8.10353801e-01,\n",
       "          8.92851974e-01]],\n",
       "\n",
       "        [[3.86866852e-01, 1.64139357e-02, 6.94860827e-01,\n",
       "          2.74708068e-01],\n",
       "         [1.19897046e-02, 5.75386351e-01, 7.45033219e-01,\n",
       "          9.08922394e-01],\n",
       "         [1.09838885e-01, 7.48004091e-01, 2.57379269e-01,\n",
       "          4.04810890e-01],\n",
       "         [3.55656120e-01, 5.91276615e-01, 6.45160987e-01,\n",
       "          7.83306302e-01]]],\n",
       "\n",
       "\n",
       "       [[[7.55534962e-01, 4.42301855e-01, 7.48943103e-01,\n",
       "          5.97281783e-01],\n",
       "         [9.09802594e-01, 7.29125125e-01, 3.16220950e-01,\n",
       "          2.83528784e-01],\n",
       "         [6.56039753e-01, 7.19579805e-02, 2.25551799e-01,\n",
       "          8.36044063e-01],\n",
       "         [5.22759090e-01, 4.02820927e-01, 2.16644669e-01,\n",
       "          9.48357871e-01]],\n",
       "\n",
       "        [[5.71691661e-01, 5.82456680e-01, 9.56299378e-01,\n",
       "          4.82310141e-01],\n",
       "         [3.26014021e-01, 3.79154856e-01, 4.75702109e-01,\n",
       "          2.31325219e-01],\n",
       "         [4.87858448e-01, 5.91872710e-01, 8.63205019e-01,\n",
       "          1.02076109e-01],\n",
       "         [1.21718628e-01, 6.68905845e-01, 2.27848692e-01,\n",
       "          9.86085394e-01]],\n",
       "\n",
       "        [[7.56010110e-01, 8.52999762e-01, 7.67158201e-01,\n",
       "          3.90612991e-01],\n",
       "         [4.71976161e-01, 7.09948627e-01, 7.83877431e-01,\n",
       "          9.24750769e-01],\n",
       "         [5.45064985e-01, 1.75770081e-01, 6.54657010e-01,\n",
       "          2.68446362e-01],\n",
       "         [5.39678915e-01, 8.57187584e-01, 1.52786397e-01,\n",
       "          1.62735946e-01]],\n",
       "\n",
       "        [[7.57377527e-01, 7.32061139e-01, 8.25248951e-01,\n",
       "          3.47028699e-01],\n",
       "         [6.13531243e-01, 3.08899374e-01, 5.56318571e-02,\n",
       "          1.13542097e-01],\n",
       "         [5.73909216e-01, 6.85276101e-01, 9.44861543e-03,\n",
       "          6.48777602e-01],\n",
       "         [4.29442560e-01, 1.69328526e-01, 2.80776590e-01,\n",
       "          1.04507873e-01]]],\n",
       "\n",
       "\n",
       "       [[[2.60175456e-01, 1.10764217e-01, 3.17528336e-01,\n",
       "          8.72570094e-02],\n",
       "         [4.22841399e-02, 4.69510665e-01, 3.29044194e-01,\n",
       "          6.11829335e-01],\n",
       "         [5.71571057e-01, 4.67252193e-01, 3.86642309e-01,\n",
       "          8.09235936e-01],\n",
       "         [3.15320522e-01, 7.69615190e-02, 6.32496324e-01,\n",
       "          1.78335027e-01]],\n",
       "\n",
       "        [[1.35016841e-01, 5.99234362e-01, 4.42819474e-01,\n",
       "          6.08932850e-01],\n",
       "         [7.07343024e-02, 8.16095613e-01, 4.57251921e-01,\n",
       "          7.58095683e-01],\n",
       "         [9.27243361e-01, 2.44196555e-01, 5.29772831e-01,\n",
       "          9.36979187e-01],\n",
       "         [6.70174360e-01, 2.30067112e-02, 6.67987922e-01,\n",
       "          2.65783146e-01]],\n",
       "\n",
       "        [[6.08662866e-01, 9.14848438e-01, 1.70323610e-02,\n",
       "          2.43075019e-01],\n",
       "         [7.57920964e-01, 1.00832559e-01, 4.27417271e-01,\n",
       "          1.99299648e-01],\n",
       "         [5.90489591e-01, 5.63268498e-01, 7.85528000e-01,\n",
       "          1.99305302e-01],\n",
       "         [4.08600208e-01, 1.27389027e-01, 7.37078056e-01,\n",
       "          9.99808392e-01]],\n",
       "\n",
       "        [[7.94915192e-01, 6.40158599e-01, 2.65979292e-02,\n",
       "          8.36786002e-01],\n",
       "         [1.85359515e-01, 2.77924222e-02, 1.43004630e-01,\n",
       "          7.20003273e-01],\n",
       "         [4.70635229e-01, 1.97492691e-01, 9.54275073e-01,\n",
       "          1.81063331e-01],\n",
       "         [3.87592648e-01, 6.88733165e-01, 7.07022765e-01,\n",
       "          6.47757998e-01]]],\n",
       "\n",
       "\n",
       "       [[[3.28643125e-01, 9.40148868e-01, 5.64936242e-01,\n",
       "          9.76309334e-01],\n",
       "         [1.54639802e-01, 8.07911443e-01, 7.25406178e-01,\n",
       "          6.07768024e-01],\n",
       "         [6.40208158e-01, 6.53757773e-01, 9.78380807e-01,\n",
       "          1.82399315e-02],\n",
       "         [5.11049670e-01, 4.91548225e-01, 6.79595398e-02,\n",
       "          9.22560852e-01]],\n",
       "\n",
       "        [[8.91146863e-01, 7.52994331e-01, 2.18206445e-01,\n",
       "          2.14486935e-01],\n",
       "         [3.82754996e-01, 7.63943982e-01, 8.77043967e-01,\n",
       "          4.99734171e-01],\n",
       "         [7.32180257e-01, 7.24834976e-01, 2.59043678e-01,\n",
       "          9.51848009e-01],\n",
       "         [4.66058709e-02, 9.30509650e-01, 4.98596229e-02,\n",
       "          9.80003481e-03]],\n",
       "\n",
       "        [[7.32653530e-01, 6.46311506e-02, 3.33579644e-01,\n",
       "          3.13647119e-01],\n",
       "         [3.68571011e-01, 4.07975149e-01, 5.98665645e-01,\n",
       "          7.55985217e-01],\n",
       "         [1.46265935e-01, 7.63835756e-01, 1.98551231e-01,\n",
       "          4.43680688e-01],\n",
       "         [5.56715933e-01, 8.75123332e-01, 6.82518110e-02,\n",
       "          8.88431025e-01]],\n",
       "\n",
       "        [[2.95891811e-01, 9.29356008e-04, 4.30126442e-01,\n",
       "          4.08491508e-01],\n",
       "         [7.08736183e-01, 4.68017876e-01, 9.45298456e-01,\n",
       "          9.64381950e-01],\n",
       "         [1.90938857e-01, 3.00570042e-01, 7.33229052e-01,\n",
       "          2.87668621e-01],\n",
       "         [1.78144282e-01, 8.33729265e-01, 2.91607655e-01,\n",
       "          8.82265498e-01]]]])"
      ]
     },
     "execution_count": 15,
     "metadata": {},
     "output_type": "execute_result"
    }
   ],
   "source": [
    "np.random.random((((4,4,4,4))))"
   ]
  },
  {
   "cell_type": "code",
   "execution_count": 27,
   "metadata": {},
   "outputs": [
    {
     "data": {
      "text/plain": [
       "array([[2, 4, 2, 4],\n",
       "       [2, 0, 1, 3],\n",
       "       [4, 4, 2, 0],\n",
       "       [0, 4, 0, 0]])"
      ]
     },
     "execution_count": 27,
     "metadata": {},
     "output_type": "execute_result"
    }
   ],
   "source": [
    "np.random.randint(0,5,(4,4))"
   ]
  },
  {
   "cell_type": "code",
   "execution_count": 35,
   "metadata": {},
   "outputs": [
    {
     "data": {
      "text/plain": [
       "array([[1., 0., 0.],\n",
       "       [0., 1., 0.],\n",
       "       [0., 0., 1.]])"
      ]
     },
     "execution_count": 35,
     "metadata": {},
     "output_type": "execute_result"
    }
   ],
   "source": [
    "np.eye(3)"
   ]
  },
  {
   "cell_type": "code",
   "execution_count": 29,
   "metadata": {},
   "outputs": [
    {
     "data": {
      "text/plain": [
       "array([[[0., 0., 0., 0., 0., 0., 0.],\n",
       "        [0., 0., 0., 0., 0., 0., 0.],\n",
       "        [0., 0., 0., 0., 0., 0., 0.],\n",
       "        [0., 0., 0., 0., 0., 0., 0.],\n",
       "        [0., 0., 0., 0., 0., 0., 0.]],\n",
       "\n",
       "       [[0., 0., 0., 0., 0., 0., 0.],\n",
       "        [0., 0., 0., 0., 0., 0., 0.],\n",
       "        [0., 0., 0., 0., 0., 0., 0.],\n",
       "        [0., 0., 0., 0., 0., 0., 0.],\n",
       "        [0., 0., 0., 0., 0., 0., 0.]],\n",
       "\n",
       "       [[0., 0., 0., 0., 0., 0., 0.],\n",
       "        [0., 0., 0., 0., 0., 0., 0.],\n",
       "        [0., 0., 0., 0., 0., 0., 0.],\n",
       "        [0., 0., 0., 0., 0., 0., 0.],\n",
       "        [0., 0., 0., 0., 0., 0., 0.]],\n",
       "\n",
       "       [[0., 0., 0., 0., 0., 0., 0.],\n",
       "        [0., 0., 0., 0., 0., 0., 0.],\n",
       "        [0., 0., 0., 0., 0., 0., 0.],\n",
       "        [0., 0., 0., 0., 0., 0., 0.],\n",
       "        [0., 0., 0., 0., 0., 0., 0.]]])"
      ]
     },
     "execution_count": 29,
     "metadata": {},
     "output_type": "execute_result"
    }
   ],
   "source": [
    "np.zeros((4,5,7))"
   ]
  },
  {
   "cell_type": "code",
   "execution_count": 60,
   "metadata": {},
   "outputs": [
    {
     "name": "stdout",
     "output_type": "stream",
     "text": [
      "89\n"
     ]
    }
   ],
   "source": [
    "def fibonacci(n):\n",
    "    if n < 0:\n",
    "        return('incorrect input')\n",
    "    elif n == 1:\n",
    "        return 0\n",
    "    elif n == 2:\n",
    "        return 1\n",
    "    else:\n",
    "        return fibonacci(n-1)+fibonacci(n-2)\n",
    "    \n",
    "print(fibonacci(12))"
   ]
  },
  {
   "cell_type": "code",
   "execution_count": 17,
   "metadata": {},
   "outputs": [
    {
     "name": "stdout",
     "output_type": "stream",
     "text": [
      "[61.1764705882353, 70.58823529411765, 64.70588235294117, 100.0, 94.11764705882354]\n"
     ]
    }
   ],
   "source": [
    "l = [22,25,35,45,25]\n",
    "l1 = [30,35,20,40,55]\n",
    "t = [l[0]+l1[0],l[1]+l1[1],l[2]+l1[2],l[3]+l1[3],l[4]+l1[4]]\n",
    "total = max(t)\n",
    "\n",
    "for i in range (5):\n",
    "        x.append(t[i]*100/total)\n",
    "print(x)\n",
    "\n",
    "    "
   ]
  },
  {
   "cell_type": "code",
   "execution_count": null,
   "metadata": {},
   "outputs": [],
   "source": []
  },
  {
   "cell_type": "code",
   "execution_count": null,
   "metadata": {},
   "outputs": [],
   "source": []
  }
 ],
 "metadata": {
  "kernelspec": {
   "display_name": "Python 3",
   "language": "python",
   "name": "python3"
  },
  "language_info": {
   "codemirror_mode": {
    "name": "ipython",
    "version": 3
   },
   "file_extension": ".py",
   "mimetype": "text/x-python",
   "name": "python",
   "nbconvert_exporter": "python",
   "pygments_lexer": "ipython3",
   "version": "3.7.3"
  }
 },
 "nbformat": 4,
 "nbformat_minor": 2
}
