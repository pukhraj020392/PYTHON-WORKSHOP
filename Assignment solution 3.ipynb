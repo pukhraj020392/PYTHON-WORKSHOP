{
 "cells": [
  {
   "cell_type": "markdown",
   "metadata": {},
   "source": [
    "### Problem Overview\n",
    "\n",
    "You are a vehicle exporter and you have the sales data with you.<br>\n",
    "Below given are the questions needed for analysis."
   ]
  },
  {
   "cell_type": "code",
   "execution_count": 2,
   "metadata": {},
   "outputs": [],
   "source": [
    "import numpy as np\n",
    "import pandas as pd\n",
    "import matplotlib.pyplot as plt\n",
    "import seaborn as sns"
   ]
  },
  {
   "cell_type": "markdown",
   "metadata": {},
   "source": [
    "#### Q1. Plot the distribution of Status of the Order."
   ]
  },
  {
   "cell_type": "code",
   "execution_count": 3,
   "metadata": {},
   "outputs": [
    {
     "data": {
      "text/html": [
       "<div>\n",
       "<style scoped>\n",
       "    .dataframe tbody tr th:only-of-type {\n",
       "        vertical-align: middle;\n",
       "    }\n",
       "\n",
       "    .dataframe tbody tr th {\n",
       "        vertical-align: top;\n",
       "    }\n",
       "\n",
       "    .dataframe thead th {\n",
       "        text-align: right;\n",
       "    }\n",
       "</style>\n",
       "<table border=\"1\" class=\"dataframe\">\n",
       "  <thead>\n",
       "    <tr style=\"text-align: right;\">\n",
       "      <th></th>\n",
       "      <th>QUANTITYORDERED</th>\n",
       "      <th>SELLINGPRICE</th>\n",
       "      <th>SALES</th>\n",
       "      <th>ORDERDATE</th>\n",
       "      <th>STATUS</th>\n",
       "      <th>PRODUCTLINE</th>\n",
       "      <th>ACTUALPRICE</th>\n",
       "      <th>PRODUCTCODE</th>\n",
       "      <th>CUSTOMERNAME</th>\n",
       "      <th>CITY</th>\n",
       "      <th>COUNTRY</th>\n",
       "      <th>DEALSIZE</th>\n",
       "    </tr>\n",
       "  </thead>\n",
       "  <tbody>\n",
       "    <tr>\n",
       "      <td>0</td>\n",
       "      <td>30</td>\n",
       "      <td>95.70</td>\n",
       "      <td>2871.00</td>\n",
       "      <td>2/24/2003 0:00</td>\n",
       "      <td>Shipped</td>\n",
       "      <td>Motorcycles</td>\n",
       "      <td>95</td>\n",
       "      <td>S10_1678</td>\n",
       "      <td>Land of Toys Inc.</td>\n",
       "      <td>NYC</td>\n",
       "      <td>USA</td>\n",
       "      <td>Small</td>\n",
       "    </tr>\n",
       "    <tr>\n",
       "      <td>1</td>\n",
       "      <td>34</td>\n",
       "      <td>81.35</td>\n",
       "      <td>2765.90</td>\n",
       "      <td>5/7/2003 0:00</td>\n",
       "      <td>Shipped</td>\n",
       "      <td>Motorcycles</td>\n",
       "      <td>95</td>\n",
       "      <td>S10_1678</td>\n",
       "      <td>Reims Collectables</td>\n",
       "      <td>Reims</td>\n",
       "      <td>France</td>\n",
       "      <td>Small</td>\n",
       "    </tr>\n",
       "    <tr>\n",
       "      <td>2</td>\n",
       "      <td>41</td>\n",
       "      <td>94.74</td>\n",
       "      <td>3884.34</td>\n",
       "      <td>7/1/2003 0:00</td>\n",
       "      <td>Shipped</td>\n",
       "      <td>Motorcycles</td>\n",
       "      <td>95</td>\n",
       "      <td>S10_1678</td>\n",
       "      <td>Lyon Souveniers</td>\n",
       "      <td>Paris</td>\n",
       "      <td>France</td>\n",
       "      <td>Medium</td>\n",
       "    </tr>\n",
       "    <tr>\n",
       "      <td>3</td>\n",
       "      <td>45</td>\n",
       "      <td>83.26</td>\n",
       "      <td>3746.70</td>\n",
       "      <td>8/25/2003 0:00</td>\n",
       "      <td>Shipped</td>\n",
       "      <td>Motorcycles</td>\n",
       "      <td>95</td>\n",
       "      <td>S10_1678</td>\n",
       "      <td>Toys4GrownUps.com</td>\n",
       "      <td>Pasadena</td>\n",
       "      <td>USA</td>\n",
       "      <td>Medium</td>\n",
       "    </tr>\n",
       "    <tr>\n",
       "      <td>4</td>\n",
       "      <td>49</td>\n",
       "      <td>100.00</td>\n",
       "      <td>5205.27</td>\n",
       "      <td>10/10/2003 0:00</td>\n",
       "      <td>Shipped</td>\n",
       "      <td>Motorcycles</td>\n",
       "      <td>95</td>\n",
       "      <td>S10_1678</td>\n",
       "      <td>Corporate Gift Ideas Co.</td>\n",
       "      <td>San Francisco</td>\n",
       "      <td>USA</td>\n",
       "      <td>Medium</td>\n",
       "    </tr>\n",
       "    <tr>\n",
       "      <td>...</td>\n",
       "      <td>...</td>\n",
       "      <td>...</td>\n",
       "      <td>...</td>\n",
       "      <td>...</td>\n",
       "      <td>...</td>\n",
       "      <td>...</td>\n",
       "      <td>...</td>\n",
       "      <td>...</td>\n",
       "      <td>...</td>\n",
       "      <td>...</td>\n",
       "      <td>...</td>\n",
       "      <td>...</td>\n",
       "    </tr>\n",
       "    <tr>\n",
       "      <td>2818</td>\n",
       "      <td>20</td>\n",
       "      <td>100.00</td>\n",
       "      <td>2244.40</td>\n",
       "      <td>12/2/2004 0:00</td>\n",
       "      <td>Shipped</td>\n",
       "      <td>Ships</td>\n",
       "      <td>54</td>\n",
       "      <td>S72_3212</td>\n",
       "      <td>Euro Shopping Channel</td>\n",
       "      <td>Madrid</td>\n",
       "      <td>Spain</td>\n",
       "      <td>Small</td>\n",
       "    </tr>\n",
       "    <tr>\n",
       "      <td>2819</td>\n",
       "      <td>29</td>\n",
       "      <td>100.00</td>\n",
       "      <td>3978.51</td>\n",
       "      <td>1/31/2005 0:00</td>\n",
       "      <td>Shipped</td>\n",
       "      <td>Ships</td>\n",
       "      <td>54</td>\n",
       "      <td>S72_3212</td>\n",
       "      <td>Oulu Toy Supplies, Inc.</td>\n",
       "      <td>Oulu</td>\n",
       "      <td>Finland</td>\n",
       "      <td>Medium</td>\n",
       "    </tr>\n",
       "    <tr>\n",
       "      <td>2820</td>\n",
       "      <td>43</td>\n",
       "      <td>100.00</td>\n",
       "      <td>5417.57</td>\n",
       "      <td>3/1/2005 0:00</td>\n",
       "      <td>Resolved</td>\n",
       "      <td>Ships</td>\n",
       "      <td>54</td>\n",
       "      <td>S72_3212</td>\n",
       "      <td>Euro Shopping Channel</td>\n",
       "      <td>Madrid</td>\n",
       "      <td>Spain</td>\n",
       "      <td>Medium</td>\n",
       "    </tr>\n",
       "    <tr>\n",
       "      <td>2821</td>\n",
       "      <td>34</td>\n",
       "      <td>62.24</td>\n",
       "      <td>2116.16</td>\n",
       "      <td>3/28/2005 0:00</td>\n",
       "      <td>Shipped</td>\n",
       "      <td>Ships</td>\n",
       "      <td>54</td>\n",
       "      <td>S72_3212</td>\n",
       "      <td>Alpha Cognac</td>\n",
       "      <td>Toulouse</td>\n",
       "      <td>France</td>\n",
       "      <td>Small</td>\n",
       "    </tr>\n",
       "    <tr>\n",
       "      <td>2822</td>\n",
       "      <td>47</td>\n",
       "      <td>65.52</td>\n",
       "      <td>3079.44</td>\n",
       "      <td>5/6/2005 0:00</td>\n",
       "      <td>On Hold</td>\n",
       "      <td>Ships</td>\n",
       "      <td>54</td>\n",
       "      <td>S72_3212</td>\n",
       "      <td>Gifts4AllAges.com</td>\n",
       "      <td>Boston</td>\n",
       "      <td>USA</td>\n",
       "      <td>Medium</td>\n",
       "    </tr>\n",
       "  </tbody>\n",
       "</table>\n",
       "<p>2823 rows × 12 columns</p>\n",
       "</div>"
      ],
      "text/plain": [
       "      QUANTITYORDERED  SELLINGPRICE    SALES        ORDERDATE    STATUS  \\\n",
       "0                  30         95.70  2871.00   2/24/2003 0:00   Shipped   \n",
       "1                  34         81.35  2765.90    5/7/2003 0:00   Shipped   \n",
       "2                  41         94.74  3884.34    7/1/2003 0:00   Shipped   \n",
       "3                  45         83.26  3746.70   8/25/2003 0:00   Shipped   \n",
       "4                  49        100.00  5205.27  10/10/2003 0:00   Shipped   \n",
       "...               ...           ...      ...              ...       ...   \n",
       "2818               20        100.00  2244.40   12/2/2004 0:00   Shipped   \n",
       "2819               29        100.00  3978.51   1/31/2005 0:00   Shipped   \n",
       "2820               43        100.00  5417.57    3/1/2005 0:00  Resolved   \n",
       "2821               34         62.24  2116.16   3/28/2005 0:00   Shipped   \n",
       "2822               47         65.52  3079.44    5/6/2005 0:00   On Hold   \n",
       "\n",
       "      PRODUCTLINE  ACTUALPRICE PRODUCTCODE              CUSTOMERNAME  \\\n",
       "0     Motorcycles           95    S10_1678         Land of Toys Inc.   \n",
       "1     Motorcycles           95    S10_1678        Reims Collectables   \n",
       "2     Motorcycles           95    S10_1678           Lyon Souveniers   \n",
       "3     Motorcycles           95    S10_1678         Toys4GrownUps.com   \n",
       "4     Motorcycles           95    S10_1678  Corporate Gift Ideas Co.   \n",
       "...           ...          ...         ...                       ...   \n",
       "2818        Ships           54    S72_3212     Euro Shopping Channel   \n",
       "2819        Ships           54    S72_3212   Oulu Toy Supplies, Inc.   \n",
       "2820        Ships           54    S72_3212     Euro Shopping Channel   \n",
       "2821        Ships           54    S72_3212              Alpha Cognac   \n",
       "2822        Ships           54    S72_3212         Gifts4AllAges.com   \n",
       "\n",
       "               CITY  COUNTRY DEALSIZE  \n",
       "0               NYC      USA    Small  \n",
       "1             Reims   France    Small  \n",
       "2             Paris   France   Medium  \n",
       "3          Pasadena      USA   Medium  \n",
       "4     San Francisco      USA   Medium  \n",
       "...             ...      ...      ...  \n",
       "2818         Madrid    Spain    Small  \n",
       "2819           Oulu  Finland   Medium  \n",
       "2820         Madrid    Spain   Medium  \n",
       "2821       Toulouse   France    Small  \n",
       "2822         Boston      USA   Medium  \n",
       "\n",
       "[2823 rows x 12 columns]"
      ]
     },
     "execution_count": 3,
     "metadata": {},
     "output_type": "execute_result"
    }
   ],
   "source": [
    "vehicle_sales = pd.read_csv('vehicle_sales.csv')\n",
    "vehicle_sales"
   ]
  },
  {
   "cell_type": "code",
   "execution_count": 4,
   "metadata": {},
   "outputs": [
    {
     "data": {
      "text/plain": [
       "Shipped       2617\n",
       "Cancelled       60\n",
       "Resolved        47\n",
       "On Hold         44\n",
       "In Process      41\n",
       "Disputed        14\n",
       "Name: STATUS, dtype: int64"
      ]
     },
     "execution_count": 4,
     "metadata": {},
     "output_type": "execute_result"
    }
   ],
   "source": [
    "p = vehicle_sales['STATUS'].value_counts()\n",
    "p\n",
    "\n"
   ]
  },
  {
   "cell_type": "code",
   "execution_count": 6,
   "metadata": {},
   "outputs": [
    {
     "data": {
      "text/plain": [
       "([<matplotlib.patches.Wedge at 0x1fc265065c8>,\n",
       "  <matplotlib.patches.Wedge at 0x1fc26506988>,\n",
       "  <matplotlib.patches.Wedge at 0x1fc26506948>,\n",
       "  <matplotlib.patches.Wedge at 0x1fc2650f088>,\n",
       "  <matplotlib.patches.Wedge at 0x1fc2650fe88>,\n",
       "  <matplotlib.patches.Wedge at 0x1fc265195c8>],\n",
       " [Text(-1.0712212401670387, 0.24997010744285397, 'Shipped'),\n",
       "  Text(1.016676946422966, -0.4199618870946196, 'Cancelled'),\n",
       "  Text(1.0593668499664244, -0.29621255407598013, 'Resolved'),\n",
       "  Text(1.083885442757613, -0.18759623391244676, 'On Hold'),\n",
       "  Text(1.0967586620776595, -0.0843826828065008, 'In Process'),\n",
       "  Text(1.0998664996859893, -0.017137177961667686, 'Disputed')])"
      ]
     },
     "execution_count": 6,
     "metadata": {},
     "output_type": "execute_result"
    },
    {
     "data": {
      "image/png": "[encoded data removed]",
      "text/plain": [
       "<Figure size 432x288 with 1 Axes>"
      ]
     },
     "metadata": {},
     "output_type": "display_data"
    }
   ],
   "source": [
    "plt.pie(vehicle_sales['STATUS'].value_counts(), labels=p.index)\n"
   ]
  },
  {
   "cell_type": "markdown",
   "metadata": {},
   "source": [
    "#### Q2. Who is the number one buyer (customer) of each type of vehicles."
   ]
  },
  {
   "cell_type": "code",
   "execution_count": 38,
   "metadata": {},
   "outputs": [
    {
     "data": {
      "text/plain": [
       "PRODUCTLINE   CUSTOMERNAME                \n",
       "Classic Cars  Euro Shopping Channel           106\n",
       "              Mini Gifts Distributors Ltd.     67\n",
       "              Muscle Machine Inc               34\n",
       "              Vida Sport, Ltd                  31\n",
       "              Anna's Decorations, Ltd          24\n",
       "                                             ... \n",
       "Vintage Cars  Cruz & Sons Co.                   1\n",
       "              Heintze Collectables              1\n",
       "              La Corne D'abondance, Co.         1\n",
       "              Microscale Inc.                   1\n",
       "              Motor Mint Distributors Inc.      1\n",
       "Name: CUSTOMERNAME, Length: 399, dtype: int64"
      ]
     },
     "execution_count": 38,
     "metadata": {},
     "output_type": "execute_result"
    }
   ],
   "source": [
    "vehicle_sales.groupby('PRODUCTLINE')['CUSTOMERNAME'].value_counts()"
   ]
  },
  {
   "cell_type": "markdown",
   "metadata": {},
   "source": [
    "#### Q3. What is the average sale of each product of each vehicle type."
   ]
  },
  {
   "cell_type": "code",
   "execution_count": 81,
   "metadata": {},
   "outputs": [
    {
     "data": {
      "text/plain": [
       "PRODUCTLINE   PRODUCTCODE\n",
       "Classic Cars  S10_1949       6824.036786\n",
       "              S10_4757       4188.656667\n",
       "              S10_4962       4555.291429\n",
       "              S12_1099       5487.080400\n",
       "              S12_1108       6484.050769\n",
       "                                ...     \n",
       "Vintage Cars  S24_3816       2698.870000\n",
       "              S24_3969       1508.257273\n",
       "              S24_4258       3626.116923\n",
       "              S32_4289       2554.284167\n",
       "              S50_1341       1931.459615\n",
       "Name: SALES, Length: 109, dtype: float64"
      ]
     },
     "execution_count": 81,
     "metadata": {},
     "output_type": "execute_result"
    }
   ],
   "source": [
    "vehicle_sales.groupby(['PRODUCTLINE','PRODUCTCODE'])['SALES'].mean()"
   ]
  },
  {
   "cell_type": "markdown",
   "metadata": {},
   "source": [
    "#### Q4. Which countries are the top three buyers of vehicles."
   ]
  },
  {
   "cell_type": "code",
   "execution_count": 9,
   "metadata": {},
   "outputs": [
    {
     "data": {
      "text/html": [
       "<div>\n",
       "<style scoped>\n",
       "    .dataframe tbody tr th:only-of-type {\n",
       "        vertical-align: middle;\n",
       "    }\n",
       "\n",
       "    .dataframe tbody tr th {\n",
       "        vertical-align: top;\n",
       "    }\n",
       "\n",
       "    .dataframe thead th {\n",
       "        text-align: right;\n",
       "    }\n",
       "</style>\n",
       "<table border=\"1\" class=\"dataframe\">\n",
       "  <thead>\n",
       "    <tr style=\"text-align: right;\">\n",
       "      <th></th>\n",
       "      <th>SALES</th>\n",
       "    </tr>\n",
       "    <tr>\n",
       "      <th>COUNTRY</th>\n",
       "      <th></th>\n",
       "    </tr>\n",
       "  </thead>\n",
       "  <tbody>\n",
       "    <tr>\n",
       "      <td>USA</td>\n",
       "      <td>3627982.83</td>\n",
       "    </tr>\n",
       "    <tr>\n",
       "      <td>Spain</td>\n",
       "      <td>1215686.92</td>\n",
       "    </tr>\n",
       "    <tr>\n",
       "      <td>France</td>\n",
       "      <td>1110916.52</td>\n",
       "    </tr>\n",
       "  </tbody>\n",
       "</table>\n",
       "</div>"
      ],
      "text/plain": [
       "              SALES\n",
       "COUNTRY            \n",
       "USA      3627982.83\n",
       "Spain    1215686.92\n",
       "France   1110916.52"
      ]
     },
     "execution_count": 9,
     "metadata": {},
     "output_type": "execute_result"
    }
   ],
   "source": [
    "h = pd.DataFrame(vehicle_sales.groupby('COUNTRY')['SALES'].sum())\n",
    "h.nlargest(3,'SALES')"
   ]
  },
  {
   "cell_type": "markdown",
   "metadata": {},
   "source": [
    "#### Q5. Plot quarterly sales of each type of vehicles."
   ]
  },
  {
   "cell_type": "code",
   "execution_count": 25,
   "metadata": {},
   "outputs": [
    {
     "data": {
      "text/html": [
       "<div>\n",
       "<style scoped>\n",
       "    .dataframe tbody tr th:only-of-type {\n",
       "        vertical-align: middle;\n",
       "    }\n",
       "\n",
       "    .dataframe tbody tr th {\n",
       "        vertical-align: top;\n",
       "    }\n",
       "\n",
       "    .dataframe thead tr th {\n",
       "        text-align: left;\n",
       "    }\n",
       "\n",
       "    .dataframe thead tr:last-of-type th {\n",
       "        text-align: right;\n",
       "    }\n",
       "</style>\n",
       "<table border=\"1\" class=\"dataframe\">\n",
       "  <thead>\n",
       "    <tr>\n",
       "      <th></th>\n",
       "      <th colspan=\"3\" halign=\"left\">QUANTITYORDERED</th>\n",
       "      <th colspan=\"3\" halign=\"left\">SELLINGPRICE</th>\n",
       "      <th colspan=\"3\" halign=\"left\">SALES</th>\n",
       "      <th colspan=\"3\" halign=\"left\">ACTUALPRICE</th>\n",
       "    </tr>\n",
       "    <tr>\n",
       "      <th></th>\n",
       "      <th>min</th>\n",
       "      <th>median</th>\n",
       "      <th>max</th>\n",
       "      <th>min</th>\n",
       "      <th>median</th>\n",
       "      <th>max</th>\n",
       "      <th>min</th>\n",
       "      <th>median</th>\n",
       "      <th>max</th>\n",
       "      <th>min</th>\n",
       "      <th>median</th>\n",
       "      <th>max</th>\n",
       "    </tr>\n",
       "    <tr>\n",
       "      <th>PRODUCTLINE</th>\n",
       "      <th></th>\n",
       "      <th></th>\n",
       "      <th></th>\n",
       "      <th></th>\n",
       "      <th></th>\n",
       "      <th></th>\n",
       "      <th></th>\n",
       "      <th></th>\n",
       "      <th></th>\n",
       "      <th></th>\n",
       "      <th></th>\n",
       "      <th></th>\n",
       "    </tr>\n",
       "  </thead>\n",
       "  <tbody>\n",
       "    <tr>\n",
       "      <td>Classic Cars</td>\n",
       "      <td>10</td>\n",
       "      <td>35.0</td>\n",
       "      <td>97</td>\n",
       "      <td>28.29</td>\n",
       "      <td>100.00</td>\n",
       "      <td>100.0</td>\n",
       "      <td>640.05</td>\n",
       "      <td>3761.370</td>\n",
       "      <td>12001.00</td>\n",
       "      <td>35</td>\n",
       "      <td>124</td>\n",
       "      <td>214</td>\n",
       "    </tr>\n",
       "    <tr>\n",
       "      <td>Motorcycles</td>\n",
       "      <td>20</td>\n",
       "      <td>35.0</td>\n",
       "      <td>66</td>\n",
       "      <td>32.59</td>\n",
       "      <td>93.90</td>\n",
       "      <td>100.0</td>\n",
       "      <td>651.80</td>\n",
       "      <td>3127.820</td>\n",
       "      <td>11886.60</td>\n",
       "      <td>40</td>\n",
       "      <td>95</td>\n",
       "      <td>193</td>\n",
       "    </tr>\n",
       "    <tr>\n",
       "      <td>Planes</td>\n",
       "      <td>11</td>\n",
       "      <td>34.0</td>\n",
       "      <td>85</td>\n",
       "      <td>40.22</td>\n",
       "      <td>83.22</td>\n",
       "      <td>100.0</td>\n",
       "      <td>875.91</td>\n",
       "      <td>2841.805</td>\n",
       "      <td>10066.60</td>\n",
       "      <td>49</td>\n",
       "      <td>80</td>\n",
       "      <td>157</td>\n",
       "    </tr>\n",
       "    <tr>\n",
       "      <td>Ships</td>\n",
       "      <td>20</td>\n",
       "      <td>34.5</td>\n",
       "      <td>55</td>\n",
       "      <td>43.68</td>\n",
       "      <td>87.61</td>\n",
       "      <td>100.0</td>\n",
       "      <td>1089.36</td>\n",
       "      <td>2884.925</td>\n",
       "      <td>6960.48</td>\n",
       "      <td>54</td>\n",
       "      <td>86</td>\n",
       "      <td>122</td>\n",
       "    </tr>\n",
       "    <tr>\n",
       "      <td>Trains</td>\n",
       "      <td>20</td>\n",
       "      <td>35.0</td>\n",
       "      <td>51</td>\n",
       "      <td>36.07</td>\n",
       "      <td>67.73</td>\n",
       "      <td>100.0</td>\n",
       "      <td>972.40</td>\n",
       "      <td>2445.600</td>\n",
       "      <td>8977.05</td>\n",
       "      <td>58</td>\n",
       "      <td>62</td>\n",
       "      <td>100</td>\n",
       "    </tr>\n",
       "    <tr>\n",
       "      <td>Trucks and Buses</td>\n",
       "      <td>11</td>\n",
       "      <td>36.0</td>\n",
       "      <td>70</td>\n",
       "      <td>35.71</td>\n",
       "      <td>100.00</td>\n",
       "      <td>100.0</td>\n",
       "      <td>482.13</td>\n",
       "      <td>3449.400</td>\n",
       "      <td>8844.12</td>\n",
       "      <td>54</td>\n",
       "      <td>116</td>\n",
       "      <td>136</td>\n",
       "    </tr>\n",
       "    <tr>\n",
       "      <td>Vintage Cars</td>\n",
       "      <td>6</td>\n",
       "      <td>34.0</td>\n",
       "      <td>76</td>\n",
       "      <td>26.88</td>\n",
       "      <td>86.01</td>\n",
       "      <td>100.0</td>\n",
       "      <td>541.14</td>\n",
       "      <td>2795.270</td>\n",
       "      <td>14082.80</td>\n",
       "      <td>33</td>\n",
       "      <td>88</td>\n",
       "      <td>170</td>\n",
       "    </tr>\n",
       "  </tbody>\n",
       "</table>\n",
       "</div>"
      ],
      "text/plain": [
       "                 QUANTITYORDERED            SELLINGPRICE                 \\\n",
       "                             min median max          min  median    max   \n",
       "PRODUCTLINE                                                               \n",
       "Classic Cars                  10   35.0  97        28.29  100.00  100.0   \n",
       "Motorcycles                   20   35.0  66        32.59   93.90  100.0   \n",
       "Planes                        11   34.0  85        40.22   83.22  100.0   \n",
       "Ships                         20   34.5  55        43.68   87.61  100.0   \n",
       "Trains                        20   35.0  51        36.07   67.73  100.0   \n",
       "Trucks and Buses              11   36.0  70        35.71  100.00  100.0   \n",
       "Vintage Cars                   6   34.0  76        26.88   86.01  100.0   \n",
       "\n",
       "                    SALES                     ACTUALPRICE              \n",
       "                      min    median       max         min median  max  \n",
       "PRODUCTLINE                                                            \n",
       "Classic Cars       640.05  3761.370  12001.00          35    124  214  \n",
       "Motorcycles        651.80  3127.820  11886.60          40     95  193  \n",
       "Planes             875.91  2841.805  10066.60          49     80  157  \n",
       "Ships             1089.36  2884.925   6960.48          54     86  122  \n",
       "Trains             972.40  2445.600   8977.05          58     62  100  \n",
       "Trucks and Buses   482.13  3449.400   8844.12          54    116  136  \n",
       "Vintage Cars       541.14  2795.270  14082.80          33     88  170  "
      ]
     },
     "execution_count": 25,
     "metadata": {},
     "output_type": "execute_result"
    }
   ],
   "source": [
    "vehicle_sales.groupby('PRODUCTLINE').aggregate(['min', np.median, max])"
   ]
  },
  {
   "cell_type": "markdown",
   "metadata": {},
   "source": [
    "#### Q6. What is the distribution of Deal Size."
   ]
  },
  {
   "cell_type": "code",
   "execution_count": 39,
   "metadata": {},
   "outputs": [
    {
     "data": {
      "text/plain": [
       "([<matplotlib.patches.Wedge at 0x1ac0ace4508>,\n",
       "  <matplotlib.patches.Wedge at 0x1ac0ace4888>,\n",
       "  <matplotlib.patches.Wedge at 0x1ac0ace4fc8>],\n",
       " [Text(0.033658592389843776, 1.0994849244797922, 'Medium'),\n",
       "  Text(-0.22427052556836177, -1.076894949083378, 'Small'),\n",
       "  Text(1.083253085847632, -0.19121389071294728, 'Large')])"
      ]
     },
     "execution_count": 39,
     "metadata": {},
     "output_type": "execute_result"
    },
    {
     "data": {
      "image/png": "[encoded data removed]",
      "text/plain": [
       "<Figure size 432x288 with 1 Axes>"
      ]
     },
     "metadata": {},
     "output_type": "display_data"
    }
   ],
   "source": [
    "X = vehicle_sales['DEALSIZE'].value_counts()\n",
    "X\n",
    "plt.pie(vehicle_sales['DEALSIZE'].value_counts(),labels=X.index)"
   ]
  },
  {
   "cell_type": "markdown",
   "metadata": {},
   "source": [
    "#### Q7. Calculate whether you earned profit or loss over sale of each vehicle type."
   ]
  },
  {
   "cell_type": "code",
   "execution_count": null,
   "metadata": {},
   "outputs": [],
   "source": []
  },
  {
   "cell_type": "markdown",
   "metadata": {},
   "source": [
    "#### Q8. Which city ordered how much quantity of each vehicle type."
   ]
  },
  {
   "cell_type": "code",
   "execution_count": 90,
   "metadata": {},
   "outputs": [
    {
     "data": {
      "text/plain": [
       "CITY          PRODUCTLINE     \n",
       "Aaarhus       Classic Cars        670\n",
       "              Ships                23\n",
       "              Trains               96\n",
       "              Trucks and Buses     73\n",
       "              Vintage Cars         20\n",
       "                                 ... \n",
       "White Plains  Motorcycles         159\n",
       "              Planes              292\n",
       "              Trains               33\n",
       "              Trucks and Buses    165\n",
       "              Vintage Cars         93\n",
       "Name: QUANTITYORDERED, Length: 334, dtype: int64"
      ]
     },
     "execution_count": 90,
     "metadata": {},
     "output_type": "execute_result"
    }
   ],
   "source": [
    "vehicle_sales.groupby(['CITY','PRODUCTLINE'])['QUANTITYORDERED'].sum()\n"
   ]
  },
  {
   "cell_type": "code",
   "execution_count": null,
   "metadata": {},
   "outputs": [],
   "source": []
  },
  {
   "cell_type": "code",
   "execution_count": null,
   "metadata": {},
   "outputs": [],
   "source": []
  }
 ],
 "metadata": {
  "kernelspec": {
   "display_name": "Python 3",
   "language": "python",
   "name": "python3"
  },
  "language_info": {
   "codemirror_mode": {
    "name": "ipython",
    "version": 3
   },
   "file_extension": ".py",
   "mimetype": "text/x-python",
   "name": "python",
   "nbconvert_exporter": "python",
   "pygments_lexer": "ipython3",
   "version": "3.7.4"
  }
 },
 "nbformat": 4,
 "nbformat_minor": 2
}
